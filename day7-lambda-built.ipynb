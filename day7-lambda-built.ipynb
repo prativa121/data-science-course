{
 "cells": [
  {
   "cell_type": "code",
   "execution_count": 2,
   "id": "5559630e",
   "metadata": {},
   "outputs": [],
   "source": [
    "#lambda function\n",
    "#syntax \n",
    " #''''''lambda arguments :expression'''"
   ]
  },
  {
   "cell_type": "code",
   "execution_count": 3,
   "id": "4b8f2564",
   "metadata": {},
   "outputs": [
    {
     "name": "stdout",
     "output_type": "stream",
     "text": [
      "20\n"
     ]
    }
   ],
   "source": [
    "x=lambda a: a+10\n",
    "print(x(10))"
   ]
  },
  {
   "cell_type": "code",
   "execution_count": 5,
   "id": "9364ade0",
   "metadata": {},
   "outputs": [
    {
     "name": "stdout",
     "output_type": "stream",
     "text": [
      "5\n"
     ]
    }
   ],
   "source": [
    "y= lambda a,b:a+b\n",
    "print(y(2,3))"
   ]
  },
  {
   "cell_type": "code",
   "execution_count": null,
   "id": "281ba1d7",
   "metadata": {},
   "outputs": [],
   "source": [
    "#calculate sum of all element of sequence using lambda"
   ]
  },
  {
   "cell_type": "code",
   "execution_count": 6,
   "id": "4ec84597",
   "metadata": {},
   "outputs": [],
   "source": [
    "a=[1,2,3,4]"
   ]
  },
  {
   "cell_type": "code",
   "execution_count": 11,
   "id": "f206b040",
   "metadata": {},
   "outputs": [],
   "source": [
    "z=lambda x:sum(x)"
   ]
  },
  {
   "cell_type": "code",
   "execution_count": 12,
   "id": "7453c8c1",
   "metadata": {},
   "outputs": [
    {
     "name": "stdout",
     "output_type": "stream",
     "text": [
      "10\n"
     ]
    }
   ],
   "source": [
    "print(z(a))"
   ]
  },
  {
   "cell_type": "code",
   "execution_count": null,
   "id": "73a73240",
   "metadata": {},
   "outputs": [],
   "source": [
    "#built in function\n",
    "#print()\n",
    "#input()\n",
    "#it returns index and value of iteam in sequence\n",
    "#enumerate()\n",
    "#type()\n",
    "#len()\n",
    "#filter()\n",
    "#map()\n",
    "#dir() =returns all the attributes and methods of a data type"
   ]
  },
  {
   "cell_type": "code",
   "execution_count": 14,
   "id": "7b69ed47",
   "metadata": {},
   "outputs": [],
   "source": [
    "a=12"
   ]
  },
  {
   "cell_type": "code",
   "execution_count": 15,
   "id": "08707079",
   "metadata": {},
   "outputs": [
    {
     "data": {
      "text/plain": [
       "['__abs__',\n",
       " '__add__',\n",
       " '__and__',\n",
       " '__bool__',\n",
       " '__ceil__',\n",
       " '__class__',\n",
       " '__delattr__',\n",
       " '__dir__',\n",
       " '__divmod__',\n",
       " '__doc__',\n",
       " '__eq__',\n",
       " '__float__',\n",
       " '__floor__',\n",
       " '__floordiv__',\n",
       " '__format__',\n",
       " '__ge__',\n",
       " '__getattribute__',\n",
       " '__getnewargs__',\n",
       " '__getstate__',\n",
       " '__gt__',\n",
       " '__hash__',\n",
       " '__index__',\n",
       " '__init__',\n",
       " '__init_subclass__',\n",
       " '__int__',\n",
       " '__invert__',\n",
       " '__le__',\n",
       " '__lshift__',\n",
       " '__lt__',\n",
       " '__mod__',\n",
       " '__mul__',\n",
       " '__ne__',\n",
       " '__neg__',\n",
       " '__new__',\n",
       " '__or__',\n",
       " '__pos__',\n",
       " '__pow__',\n",
       " '__radd__',\n",
       " '__rand__',\n",
       " '__rdivmod__',\n",
       " '__reduce__',\n",
       " '__reduce_ex__',\n",
       " '__repr__',\n",
       " '__rfloordiv__',\n",
       " '__rlshift__',\n",
       " '__rmod__',\n",
       " '__rmul__',\n",
       " '__ror__',\n",
       " '__round__',\n",
       " '__rpow__',\n",
       " '__rrshift__',\n",
       " '__rshift__',\n",
       " '__rsub__',\n",
       " '__rtruediv__',\n",
       " '__rxor__',\n",
       " '__setattr__',\n",
       " '__sizeof__',\n",
       " '__str__',\n",
       " '__sub__',\n",
       " '__subclasshook__',\n",
       " '__truediv__',\n",
       " '__trunc__',\n",
       " '__xor__',\n",
       " 'as_integer_ratio',\n",
       " 'bit_count',\n",
       " 'bit_length',\n",
       " 'conjugate',\n",
       " 'denominator',\n",
       " 'from_bytes',\n",
       " 'imag',\n",
       " 'numerator',\n",
       " 'real',\n",
       " 'to_bytes']"
      ]
     },
     "execution_count": 15,
     "metadata": {},
     "output_type": "execute_result"
    }
   ],
   "source": [
    "dir(a)"
   ]
  },
  {
   "cell_type": "code",
   "execution_count": 16,
   "id": "d78cfb5e",
   "metadata": {},
   "outputs": [],
   "source": [
    "a='prativa'"
   ]
  },
  {
   "cell_type": "code",
   "execution_count": 37,
   "id": "9e18a386",
   "metadata": {},
   "outputs": [
    {
     "ename": "SyntaxError",
     "evalue": "invalid decimal literal (2564153743.py, line 1)",
     "output_type": "error",
     "traceback": [
      "\u001b[1;36m  Cell \u001b[1;32mIn[37], line 1\u001b[1;36m\u001b[0m\n\u001b[1;33m    3dir(a)\u001b[0m\n\u001b[1;37m    ^\u001b[0m\n\u001b[1;31mSyntaxError\u001b[0m\u001b[1;31m:\u001b[0m invalid decimal literal\n"
     ]
    }
   ],
   "source": [
    "#dir(a)"
   ]
  },
  {
   "cell_type": "code",
   "execution_count": 18,
   "id": "c7200a8b",
   "metadata": {},
   "outputs": [],
   "source": [
    "#enumerate"
   ]
  },
  {
   "cell_type": "code",
   "execution_count": 33,
   "id": "ccf350af",
   "metadata": {},
   "outputs": [],
   "source": [
    "a=[1,2,3,4,5]"
   ]
  },
  {
   "cell_type": "code",
   "execution_count": 30,
   "id": "0d7d8ace",
   "metadata": {},
   "outputs": [
    {
     "name": "stdout",
     "output_type": "stream",
     "text": [
      "(0, 1)\n",
      "(1, 2)\n",
      "(2, 3)\n",
      "(3, 4)\n",
      "(4, 5)\n"
     ]
    }
   ],
   "source": [
    "for i in enumerate(a):\n",
    "    print(i)"
   ]
  },
  {
   "cell_type": "code",
   "execution_count": 35,
   "id": "fb773617",
   "metadata": {},
   "outputs": [
    {
     "name": "stdout",
     "output_type": "stream",
     "text": [
      "Index: 0, Value:1\n",
      "Index: 1, Value:2\n",
      "Index: 2, Value:3\n",
      "Index: 3, Value:4\n",
      "Index: 4, Value:5\n"
     ]
    }
   ],
   "source": [
    "for idx, val  in enumerate(a):\n",
    "    print(f\"Index: {idx}, Value:{val}\") "
   ]
  },
  {
   "cell_type": "code",
   "execution_count": 38,
   "id": "244e161d",
   "metadata": {},
   "outputs": [
    {
     "name": "stdout",
     "output_type": "stream",
     "text": [
      "(1, 'a')\n",
      "(2, 'b')\n",
      "(3, 'c')\n",
      "(4, 'd')\n"
     ]
    }
   ],
   "source": [
    "#zip()\n",
    "a=[1,2,3,4]\n",
    "b=['a','b','c','d']\n",
    "\n",
    "for i in zip(a,b):\n",
    "    print(i)"
   ]
  },
  {
   "cell_type": "code",
   "execution_count": 39,
   "id": "3bf54c82",
   "metadata": {},
   "outputs": [
    {
     "name": "stdout",
     "output_type": "stream",
     "text": [
      "first:1,second:a\n",
      "first:2,second:b\n",
      "first:3,second:c\n",
      "first:4,second:d\n"
     ]
    }
   ],
   "source": [
    "for i , j in zip(a,b):\n",
    "    print(f\"first:{i},second:{j}\")"
   ]
  },
  {
   "cell_type": "code",
   "execution_count": 40,
   "id": "8753978b",
   "metadata": {},
   "outputs": [
    {
     "name": "stdout",
     "output_type": "stream",
     "text": [
      "(1, 'a')\n",
      "(2, 'b')\n",
      "(3, 'c')\n"
     ]
    }
   ],
   "source": [
    "a=[1,2,3,4]\n",
    "b=['a','b','c']\n",
    "\n",
    "for i in zip(a,b):\n",
    "    print(i)"
   ]
  },
  {
   "cell_type": "code",
   "execution_count": 42,
   "id": "b55cf5f1",
   "metadata": {},
   "outputs": [],
   "source": [
    "#filter\n",
    "#filter (func,sequence)\n",
    "a=[1,2,3,4]\n",
    "abc=filter(lambda x:x%2==0,a)"
   ]
  },
  {
   "cell_type": "code",
   "execution_count": 47,
   "id": "cf9134dd",
   "metadata": {},
   "outputs": [
    {
     "name": "stdout",
     "output_type": "stream",
     "text": [
      "<filter object at 0x0000017E2402F400>\n"
     ]
    }
   ],
   "source": [
    "print(abc)"
   ]
  },
  {
   "cell_type": "code",
   "execution_count": 44,
   "id": "9ed4d278",
   "metadata": {},
   "outputs": [
    {
     "name": "stdout",
     "output_type": "stream",
     "text": [
      "2\n",
      "4\n"
     ]
    }
   ],
   "source": [
    "for i in abc:\n",
    "    print (i)"
   ]
  },
  {
   "cell_type": "code",
   "execution_count": 48,
   "id": "88f27490",
   "metadata": {},
   "outputs": [],
   "source": [
    "#map\n",
    "#syntax : map(func,seq)"
   ]
  },
  {
   "cell_type": "code",
   "execution_count": 49,
   "id": "efac121f",
   "metadata": {},
   "outputs": [],
   "source": [
    "a=[1,2,3,4]\n",
    "\n",
    "abc=map(lambda x:x**2,a)"
   ]
  },
  {
   "cell_type": "code",
   "execution_count": 51,
   "id": "cf850029",
   "metadata": {},
   "outputs": [
    {
     "name": "stdout",
     "output_type": "stream",
     "text": [
      "<class 'map'>\n"
     ]
    }
   ],
   "source": [
    "print(type(abc))"
   ]
  },
  {
   "cell_type": "code",
   "execution_count": 50,
   "id": "a7db6a58",
   "metadata": {},
   "outputs": [
    {
     "name": "stdout",
     "output_type": "stream",
     "text": [
      "1\n",
      "4\n",
      "9\n",
      "16\n"
     ]
    }
   ],
   "source": [
    "for i in abc:\n",
    "    print (i)"
   ]
  },
  {
   "cell_type": "code",
   "execution_count": 52,
   "id": "774bc70b",
   "metadata": {},
   "outputs": [],
   "source": [
    "from functools import reduce"
   ]
  },
  {
   "cell_type": "code",
   "execution_count": 53,
   "id": "3c8e7b4f",
   "metadata": {},
   "outputs": [],
   "source": [
    "a=[1,2,3,4]"
   ]
  },
  {
   "cell_type": "code",
   "execution_count": 54,
   "id": "d19c6eab",
   "metadata": {},
   "outputs": [
    {
     "name": "stdout",
     "output_type": "stream",
     "text": [
      "<class 'int'>\n"
     ]
    }
   ],
   "source": [
    "abc=reduce(lambda x, y:x + y,a )\n",
    "print(type(abc))"
   ]
  },
  {
   "cell_type": "code",
   "execution_count": 55,
   "id": "3b28cbab",
   "metadata": {},
   "outputs": [
    {
     "name": "stdout",
     "output_type": "stream",
     "text": [
      "10\n"
     ]
    }
   ],
   "source": [
    "print(abc)"
   ]
  },
  {
   "cell_type": "code",
   "execution_count": 58,
   "id": "765982b8",
   "metadata": {},
   "outputs": [
    {
     "name": "stdout",
     "output_type": "stream",
     "text": [
      "ab\n"
     ]
    }
   ],
   "source": [
    "print('a',end=\"\")\n",
    "print('b')\n"
   ]
  },
  {
   "cell_type": "code",
   "execution_count": null,
   "id": "03cfca98",
   "metadata": {},
   "outputs": [],
   "source": [
    "#open file and write"
   ]
  },
  {
   "cell_type": "code",
   "execution_count": 60,
   "id": "2226a964",
   "metadata": {},
   "outputs": [
    {
     "name": "stdout",
     "output_type": "stream",
     "text": [
      "11\n"
     ]
    }
   ],
   "source": [
    "with open(\"abc.txt\",'w') as file:\n",
    "    content =file.write(\"how are you\")\n",
    "    print(content)"
   ]
  },
  {
   "cell_type": "code",
   "execution_count": 61,
   "id": "79b3f2e1",
   "metadata": {},
   "outputs": [
    {
     "name": "stdout",
     "output_type": "stream",
     "text": [
      "how are you\n"
     ]
    }
   ],
   "source": [
    "with open(\"abc.txt\",'r') as file:\n",
    "    content =file.read()\n",
    "    print(content)"
   ]
  },
  {
   "cell_type": "code",
   "execution_count": null,
   "id": "aae13912",
   "metadata": {},
   "outputs": [],
   "source": []
  }
 ],
 "metadata": {
  "kernelspec": {
   "display_name": "Python 3 (ipykernel)",
   "language": "python",
   "name": "python3"
  },
  "language_info": {
   "codemirror_mode": {
    "name": "ipython",
    "version": 3
   },
   "file_extension": ".py",
   "mimetype": "text/x-python",
   "name": "python",
   "nbconvert_exporter": "python",
   "pygments_lexer": "ipython3",
   "version": "3.11.3"
  }
 },
 "nbformat": 4,
 "nbformat_minor": 5
}
