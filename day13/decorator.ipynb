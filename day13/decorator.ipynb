{
 "cells": [
  {
   "cell_type": "code",
   "execution_count": 19,
   "id": "6d6d2779",
   "metadata": {},
   "outputs": [],
   "source": [
    "def decorator(func):\n",
    "    def wrapper():\n",
    "        print(\"before function execution\")\n",
    "        func()\n",
    "        print(\"after function execution\")\n",
    "        return \"hi\"\n",
    "    return wrapper\n",
    "\n"
   ]
  },
  {
   "cell_type": "code",
   "execution_count": 20,
   "id": "2aa6e662",
   "metadata": {},
   "outputs": [],
   "source": [
    "@decorator\n",
    "def say_hello():\n",
    "    print(\"hello world\")"
   ]
  },
  {
   "cell_type": "code",
   "execution_count": 21,
   "id": "4918c2c5",
   "metadata": {},
   "outputs": [
    {
     "name": "stdout",
     "output_type": "stream",
     "text": [
      "before function execution\n",
      "hello world\n",
      "after function execution\n"
     ]
    },
    {
     "data": {
      "text/plain": [
       "'hi'"
      ]
     },
     "execution_count": 21,
     "metadata": {},
     "output_type": "execute_result"
    }
   ],
   "source": [
    "say_hello()"
   ]
  },
  {
   "cell_type": "code",
   "execution_count": 22,
   "id": "45eefc08",
   "metadata": {},
   "outputs": [],
   "source": [
    "abc=decorator(say_hello)"
   ]
  },
  {
   "cell_type": "code",
   "execution_count": 23,
   "id": "3bd0095d",
   "metadata": {},
   "outputs": [
    {
     "name": "stdout",
     "output_type": "stream",
     "text": [
      "before function execution\n",
      "before function execution\n",
      "hello world\n",
      "after function execution\n",
      "after function execution\n",
      "hi\n"
     ]
    }
   ],
   "source": [
    "print(abc())"
   ]
  },
  {
   "cell_type": "code",
   "execution_count": 24,
   "id": "e36564aa",
   "metadata": {},
   "outputs": [],
   "source": [
    "def repeat(n):\n",
    "    def decorator (func):\n",
    "        def wrapper(*args,**kwargs):\n",
    "            for i in range(n):\n",
    "                func(*args,**kwargs)\n",
    "        return wrapper\n",
    "    return decorator"
   ]
  },
  {
   "cell_type": "code",
   "execution_count": 26,
   "id": "777662d6",
   "metadata": {},
   "outputs": [],
   "source": [
    "@repeat(3)\n",
    "def say_hello(name):\n",
    "    print(f'{name} hello')"
   ]
  },
  {
   "cell_type": "code",
   "execution_count": 27,
   "id": "f9c255fe",
   "metadata": {},
   "outputs": [
    {
     "name": "stdout",
     "output_type": "stream",
     "text": [
      "alice hello\n",
      "alice hello\n",
      "alice hello\n"
     ]
    }
   ],
   "source": [
    "say_hello(\"alice\")"
   ]
  },
  {
   "cell_type": "code",
   "execution_count": 28,
   "id": "f99954ad",
   "metadata": {},
   "outputs": [],
   "source": [
    "rep=repeat(3)"
   ]
  },
  {
   "cell_type": "code",
   "execution_count": 29,
   "id": "9f2f9fa1",
   "metadata": {},
   "outputs": [
    {
     "name": "stdout",
     "output_type": "stream",
     "text": [
      "vrit hello\n",
      "vrit hello\n",
      "vrit hello\n"
     ]
    }
   ],
   "source": [
    "dec=rep(say_hello(\"vrit\"))"
   ]
  },
  {
   "cell_type": "code",
   "execution_count": null,
   "id": "da8229bb",
   "metadata": {},
   "outputs": [],
   "source": []
  }
 ],
 "metadata": {
  "kernelspec": {
   "display_name": "Python 3 (ipykernel)",
   "language": "python",
   "name": "python3"
  },
  "language_info": {
   "codemirror_mode": {
    "name": "ipython",
    "version": 3
   },
   "file_extension": ".py",
   "mimetype": "text/x-python",
   "name": "python",
   "nbconvert_exporter": "python",
   "pygments_lexer": "ipython3",
   "version": "3.11.3"
  }
 },
 "nbformat": 4,
 "nbformat_minor": 5
}
