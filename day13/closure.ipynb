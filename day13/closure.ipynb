{
 "cells": [
  {
   "cell_type": "code",
   "execution_count": 1,
   "id": "045a924d",
   "metadata": {},
   "outputs": [
    {
     "name": "stdout",
     "output_type": "stream",
     "text": [
      "5\n"
     ]
    }
   ],
   "source": [
    "def outer(x):\n",
    "    def inner(y):\n",
    "        return x+y\n",
    "    return inner\n",
    "\n",
    "closure=outer(2)\n",
    "z=closure(3)\n",
    "print(z)"
   ]
  },
  {
   "cell_type": "code",
   "execution_count": 2,
   "id": "ff064479",
   "metadata": {},
   "outputs": [
    {
     "data": {
      "text/plain": [
       "function"
      ]
     },
     "execution_count": 2,
     "metadata": {},
     "output_type": "execute_result"
    }
   ],
   "source": [
    "type(closure)"
   ]
  },
  {
   "cell_type": "markdown",
   "id": "6b12adfe",
   "metadata": {},
   "source": [
    "# closure doesnot hold a value for data type or class type but it holds an entire inner function"
   ]
  },
  {
   "cell_type": "code",
   "execution_count": 13,
   "id": "c0d64ad2",
   "metadata": {},
   "outputs": [],
   "source": [
    "def outer(x):\n",
    "    def inner(y):\n",
    "        return x+y\n",
    "    def inner2():\n",
    "        return 5\n",
    "        \n",
    "    return inner,inner2"
   ]
  },
  {
   "cell_type": "code",
   "execution_count": 14,
   "id": "ab66aaf4",
   "metadata": {},
   "outputs": [],
   "source": [
    "closure1,closure2=outer(5)"
   ]
  },
  {
   "cell_type": "code",
   "execution_count": 15,
   "id": "3e0e094c",
   "metadata": {},
   "outputs": [],
   "source": [
    "c=closure1(2)"
   ]
  },
  {
   "cell_type": "code",
   "execution_count": 16,
   "id": "d0a131c5",
   "metadata": {},
   "outputs": [
    {
     "name": "stdout",
     "output_type": "stream",
     "text": [
      "7\n"
     ]
    }
   ],
   "source": [
    "print(c)"
   ]
  },
  {
   "cell_type": "code",
   "execution_count": 17,
   "id": "dc9eb61f",
   "metadata": {},
   "outputs": [],
   "source": [
    "a=closure2()"
   ]
  },
  {
   "cell_type": "code",
   "execution_count": 18,
   "id": "acb97a92",
   "metadata": {},
   "outputs": [
    {
     "name": "stdout",
     "output_type": "stream",
     "text": [
      "5\n"
     ]
    }
   ],
   "source": [
    "print(a)"
   ]
  },
  {
   "cell_type": "code",
   "execution_count": 19,
   "id": "5424c8ce",
   "metadata": {},
   "outputs": [],
   "source": [
    "def counter():\n",
    "    count=0\n",
    "    def inner():\n",
    "        nonlocal count\n",
    "        count+=1\n",
    "        return count\n",
    "    return inner"
   ]
  },
  {
   "cell_type": "code",
   "execution_count": 21,
   "id": "c1ead30a",
   "metadata": {},
   "outputs": [
    {
     "name": "stdout",
     "output_type": "stream",
     "text": [
      "1\n",
      "2\n"
     ]
    }
   ],
   "source": [
    "c1=counter()\n",
    "print(c1())\n",
    "print(c1())"
   ]
  },
  {
   "cell_type": "code",
   "execution_count": 22,
   "id": "62f39cf8",
   "metadata": {},
   "outputs": [
    {
     "name": "stdout",
     "output_type": "stream",
     "text": [
      "1\n",
      "2\n"
     ]
    }
   ],
   "source": [
    "c2=counter()\n",
    "print(c2())\n",
    "print(c2())"
   ]
  },
  {
   "cell_type": "code",
   "execution_count": null,
   "id": "23dbceb6",
   "metadata": {},
   "outputs": [],
   "source": []
  }
 ],
 "metadata": {
  "kernelspec": {
   "display_name": "Python 3 (ipykernel)",
   "language": "python",
   "name": "python3"
  },
  "language_info": {
   "codemirror_mode": {
    "name": "ipython",
    "version": 3
   },
   "file_extension": ".py",
   "mimetype": "text/x-python",
   "name": "python",
   "nbconvert_exporter": "python",
   "pygments_lexer": "ipython3",
   "version": "3.11.3"
  }
 },
 "nbformat": 4,
 "nbformat_minor": 5
}
