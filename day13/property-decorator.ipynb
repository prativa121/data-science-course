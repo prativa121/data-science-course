{
 "cells": [
  {
   "cell_type": "code",
   "execution_count": 1,
   "id": "34de8219",
   "metadata": {},
   "outputs": [],
   "source": [
    "class person:\n",
    "    def __init__(self,name):\n",
    "        self._name=name\n",
    "        \n",
    "    @property\n",
    "    def name(self):\n",
    "        print(\"getting name\")\n",
    "        return self._name\n",
    "    "
   ]
  },
  {
   "cell_type": "code",
   "execution_count": 2,
   "id": "b2354d5b",
   "metadata": {},
   "outputs": [
    {
     "name": "stdout",
     "output_type": "stream",
     "text": [
      "getting name\n",
      "alica\n"
     ]
    }
   ],
   "source": [
    "p1=person(\"alica\")\n",
    "print(p1.name)"
   ]
  },
  {
   "cell_type": "markdown",
   "id": "fa2d598b",
   "metadata": {},
   "source": [
    "#setter\n"
   ]
  },
  {
   "cell_type": "code",
   "execution_count": 3,
   "id": "61f2d628",
   "metadata": {},
   "outputs": [],
   "source": [
    "class person:\n",
    "    def __init__(self,name):\n",
    "        self._name=name\n",
    "        \n",
    "    @property\n",
    "    def name(self):\n",
    "        print(\"getting name\")\n",
    "        return self._name\n",
    "    @name.setter\n",
    "    def name(self,value):\n",
    "        print(\"setting name\")\n",
    "        self._name=value"
   ]
  },
  {
   "cell_type": "code",
   "execution_count": 4,
   "id": "2e947503",
   "metadata": {},
   "outputs": [
    {
     "name": "stdout",
     "output_type": "stream",
     "text": [
      "getting name\n",
      "alice\n",
      "setting name\n",
      "getting name\n",
      "bob\n"
     ]
    }
   ],
   "source": [
    "p2=person(\"alice\")\n",
    "print(p2.name)\n",
    "p2.name=\"bob\"\n",
    "print(p2.name)"
   ]
  },
  {
   "cell_type": "code",
   "execution_count": 1,
   "id": "9a229b1f",
   "metadata": {},
   "outputs": [],
   "source": [
    "class person:\n",
    "    def __init__(self,name):\n",
    "        self._name=name\n",
    "        \n",
    "    @property\n",
    "    def name(self):\n",
    "        print(\"getting name\")\n",
    "        return self._name\n",
    "    @name.setter\n",
    "    def name(self,value):\n",
    "        print(\"setting name\")\n",
    "        self._name=value\n",
    "        \n",
    "    @name.deleter\n",
    "    def name(self):\n",
    "        print(\"deleting name\")\n",
    "        del self._name"
   ]
  },
  {
   "cell_type": "code",
   "execution_count": 2,
   "id": "1f04994b",
   "metadata": {},
   "outputs": [
    {
     "name": "stdout",
     "output_type": "stream",
     "text": [
      "getting name\n",
      "alice\n",
      "deleting name\n",
      "getting name\n"
     ]
    },
    {
     "ename": "AttributeError",
     "evalue": "'person' object has no attribute '_name'",
     "output_type": "error",
     "traceback": [
      "\u001b[1;31m---------------------------------------------------------------------------\u001b[0m",
      "\u001b[1;31mAttributeError\u001b[0m                            Traceback (most recent call last)",
      "Cell \u001b[1;32mIn[2], line 4\u001b[0m\n\u001b[0;32m      2\u001b[0m \u001b[38;5;28mprint\u001b[39m(p2\u001b[38;5;241m.\u001b[39mname)\n\u001b[0;32m      3\u001b[0m \u001b[38;5;28;01mdel\u001b[39;00m p2\u001b[38;5;241m.\u001b[39mname\n\u001b[1;32m----> 4\u001b[0m \u001b[38;5;28mprint\u001b[39m(\u001b[43mp2\u001b[49m\u001b[38;5;241;43m.\u001b[39;49m\u001b[43mname\u001b[49m)\n",
      "Cell \u001b[1;32mIn[1], line 8\u001b[0m, in \u001b[0;36mperson.name\u001b[1;34m(self)\u001b[0m\n\u001b[0;32m      5\u001b[0m \u001b[38;5;129m@property\u001b[39m\n\u001b[0;32m      6\u001b[0m \u001b[38;5;28;01mdef\u001b[39;00m \u001b[38;5;21mname\u001b[39m(\u001b[38;5;28mself\u001b[39m):\n\u001b[0;32m      7\u001b[0m     \u001b[38;5;28mprint\u001b[39m(\u001b[38;5;124m\"\u001b[39m\u001b[38;5;124mgetting name\u001b[39m\u001b[38;5;124m\"\u001b[39m)\n\u001b[1;32m----> 8\u001b[0m     \u001b[38;5;28;01mreturn\u001b[39;00m \u001b[38;5;28;43mself\u001b[39;49m\u001b[38;5;241;43m.\u001b[39;49m\u001b[43m_name\u001b[49m\n",
      "\u001b[1;31mAttributeError\u001b[0m: 'person' object has no attribute '_name'"
     ]
    }
   ],
   "source": [
    "p2=person(\"alice\")\n",
    "print(p2.name)\n",
    "del p2.name\n",
    "print(p2.name)"
   ]
  },
  {
   "cell_type": "code",
   "execution_count": null,
   "id": "d4069c3e",
   "metadata": {},
   "outputs": [],
   "source": []
  }
 ],
 "metadata": {
  "kernelspec": {
   "display_name": "Python 3 (ipykernel)",
   "language": "python",
   "name": "python3"
  },
  "language_info": {
   "codemirror_mode": {
    "name": "ipython",
    "version": 3
   },
   "file_extension": ".py",
   "mimetype": "text/x-python",
   "name": "python",
   "nbconvert_exporter": "python",
   "pygments_lexer": "ipython3",
   "version": "3.11.3"
  }
 },
 "nbformat": 4,
 "nbformat_minor": 5
}
