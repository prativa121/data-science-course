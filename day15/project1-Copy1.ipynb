{
 "cells": [
  {
   "cell_type": "markdown",
   "id": "8fa8777d",
   "metadata": {},
   "source": [
    "# we want to build an online shopping cart system\n",
    " problem statement\n",
    " 1. adding product to the cart\n",
    " 2. removing product from the cart\n",
    " 3. calculating the total cost\n",
    " 4. applying discount based on user type\n",
    " 5. generating an invoice\n",
    " "
   ]
  },
  {
   "cell_type": "code",
   "execution_count": 1,
   "id": "a6bc088d",
   "metadata": {},
   "outputs": [],
   "source": [
    "class product:\n",
    "    def __init__(self,name,price):\n",
    "        self.name=name\n",
    "        self.price=price"
   ]
  },
  {
   "cell_type": "code",
   "execution_count": 2,
   "id": "ff639e24",
   "metadata": {},
   "outputs": [],
   "source": [
    "class user:\n",
    "    users=[] # class variable to store all user\n",
    "    def __init__(self,name):\n",
    "        self.name=self.validate_name(name)\n",
    "        self.__is_premium=False\n",
    "        self.__is_admin=False\n",
    "        self.cart=shopping_cart()\n",
    "        self.user=\n",
    "        user.users.append(self) # add the user to list of users\n",
    "        if self.name =='admin':\n",
    "            self.__is_premium=True\n",
    "            self.__is_admin=True\n",
    "    \n",
    "    \n",
    "    @staticmethod\n",
    "    def validate_name(name):\n",
    "        if any(user.name== name for user in user.users):\n",
    "            print(f'user with the name {name} already exists. please choose a different name')\n",
    "            unique_name=input(\"enter a new name\")\n",
    "            return user.validate_name(unique_name) # recursively validate the unique name\n",
    "        return name\n",
    "    \n",
    "    @property\n",
    "    def is_admin(self):\n",
    "        return self.__is_admin\n",
    "    \n",
    "    @property\n",
    "    def is_premium(self):\n",
    "        return self.__is_premium\n",
    "    \n",
    "    def make_admin(self,admin_user):\n",
    "        if admin_user.is_admin:\n",
    "            self.__is_admin=True\n",
    "            self.__is_premium=True\n",
    "        \n",
    "    \n",
    "    def make_premium(self,admin_user):\n",
    "        if admin_user.is_admin:\n",
    "            self.__is_premium=True\n",
    "    \n",
    "    def remove_admin(self,admin_user):\n",
    "        if admin_user.is_admin:\n",
    "            self.__is_admin=False\n",
    "            \n",
    "    def remove_premium(self,admin_user):\n",
    "        if admin_user.is_admin:\n",
    "            self.__is_premium=False\n",
    "        \n",
    "    \n",
    "            \n",
    "            "
   ]
  },
  {
   "cell_type": "code",
   "execution_count": 3,
   "id": "7b0179e4",
   "metadata": {},
   "outputs": [],
   "source": [
    "def discounted_10_percent(func):\n",
    "    def wrapper(x):\n",
    "        total_price=func(x)\n",
    "        discount_cost=total_price * 0.9\n",
    "        return discount_cost\n",
    "    return wrapper"
   ]
  },
  {
   "cell_type": "code",
   "execution_count": 4,
   "id": "3720ce40",
   "metadata": {},
   "outputs": [],
   "source": [
    "class shopping_cart:\n",
    "    def __init__(self):\n",
    "        self.products=[]\n",
    "        \n",
    "    def add_product(self,product):\n",
    "        self.products.append(product)\n",
    "        \n",
    "    def remove_product(self,product):\n",
    "        self.products.remove(product)\n",
    "        \n",
    "    def calculate_total_cost(self):\n",
    "        total_cost=sum(product.price for product in self .products)\n",
    "        return total_cost\n",
    "    @discounted_10_percent\n",
    "    def calculate_discounted_cost(self):\n",
    "        total_cost=sum(product.price for product in self.products)\n",
    "        return total_cost\n",
    "    \n",
    "    def generate_invoice(self,user):\n",
    "        invoice=f\"Invoive for {user.name}: \\n\"\n",
    "        invoice+=\"======================== \\n\"\n",
    "        for product in self.products:\n",
    "            invoice+=f\"{product.name}:${product.price} \\n\"\n",
    "        total_cost=self.calculate_total_cost()\n",
    "        if user.is_premium:\n",
    "            invoice+=\"------------------------- \\n\"\n",
    "            invoice+=f\"sub-total : ${total_cost} \\n\"\n",
    "            final_cost=self.calculate_discounted_cost()\n",
    "            invoice+=f\"discounted price :{total_cost-final_cost} \\n\"\n",
    "            total_cost=final_cost\n",
    "        invoice+=\"------------------------- \\n\"\n",
    "        invoice+=f\"Total: ${total_cost}\"\n",
    "        return invoice\n",
    "    \n",
    "    def get_products(self):\n",
    "        yield from self.products\n",
    "            \n",
    "            \n",
    "            \n",
    "            \n",
    "        "
   ]
  },
  {
   "cell_type": "code",
   "execution_count": 5,
   "id": "67961db0",
   "metadata": {},
   "outputs": [],
   "source": [
    "# #create product\n",
    "# product1=product(\"shirt\",20)\n",
    "# product2=product(\"pants\",50)\n",
    "# product3=product(\"shoes\",10)\n",
    "# product4=product(\"socks\",5)"
   ]
  },
  {
   "cell_type": "code",
   "execution_count": 6,
   "id": "6bd25ba3",
   "metadata": {},
   "outputs": [],
   "source": [
    "# cart=shopping_cart()\n",
    "# cart.add_product(product1)\n",
    "# cart.add_product(product2)\n",
    "# for product in cart.get_products():\n",
    "#         print(f\"product:{product.name},price:{product.price}\")\n"
   ]
  },
  {
   "cell_type": "code",
   "execution_count": 7,
   "id": "0f87727d",
   "metadata": {},
   "outputs": [],
   "source": [
    "#create a user\n",
    "\n",
    "user1=user(\"ram\")"
   ]
  },
  {
   "cell_type": "code",
   "execution_count": 8,
   "id": "8ff1e383",
   "metadata": {},
   "outputs": [],
   "source": [
    "# #create product\n",
    "product1=product(\"shirt\",20)\n",
    "product2=product(\"pants\",50)\n",
    "product3=product(\"shoes\",10)\n",
    "product4=product(\"socks\",5)\n"
   ]
  },
  {
   "cell_type": "code",
   "execution_count": 9,
   "id": "1a8cedd2",
   "metadata": {},
   "outputs": [
    {
     "name": "stdout",
     "output_type": "stream",
     "text": [
      "product:shirt,price:20\n",
      "product:pants,price:50\n"
     ]
    }
   ],
   "source": [
    "cart=shopping_cart()\n",
    "cart.add_product(product1)\n",
    "cart.add_product(product2)\n",
    "for product in cart.get_products():\n",
    "        print(f\"product:{product.name},price:{product.price}\")\n"
   ]
  },
  {
   "cell_type": "code",
   "execution_count": 10,
   "id": "8fbbe296",
   "metadata": {},
   "outputs": [
    {
     "name": "stdout",
     "output_type": "stream",
     "text": [
      "Invoive for ram: \n",
      "======================== \n",
      "shirt:$20 \n",
      "pants:$50 \n",
      "------------------------- \n",
      "Total: $70\n"
     ]
    }
   ],
   "source": [
    "print(cart.generate_invoice(user1))"
   ]
  },
  {
   "cell_type": "code",
   "execution_count": 11,
   "id": "1c1a02b7",
   "metadata": {},
   "outputs": [],
   "source": [
    "admin=user(\"admin\")"
   ]
  },
  {
   "cell_type": "code",
   "execution_count": 13,
   "id": "eeb93691",
   "metadata": {},
   "outputs": [
    {
     "data": {
      "text/plain": [
       "True"
      ]
     },
     "execution_count": 13,
     "metadata": {},
     "output_type": "execute_result"
    }
   ],
   "source": [
    "admin.is_admin"
   ]
  },
  {
   "cell_type": "code",
   "execution_count": 14,
   "id": "b9702ac5",
   "metadata": {},
   "outputs": [],
   "source": [
    "\n",
    "admin.cart.add_product(product4)\n",
    "admin.cart.add_product(product3)\n",
    "# for product in cart1.get_products():\n",
    "#         print(f\"product:{product.name},price:{product.price}\")\n"
   ]
  },
  {
   "cell_type": "code",
   "execution_count": 15,
   "id": "ce0af76e",
   "metadata": {},
   "outputs": [
    {
     "name": "stdout",
     "output_type": "stream",
     "text": [
      "Invoive for admin: \n",
      "======================== \n",
      "shirt:$20 \n",
      "pants:$50 \n",
      "------------------------- \n",
      "sub-total : $70 \n",
      "discounted price :7.0 \n",
      "------------------------- \n",
      "Total: $63.0\n"
     ]
    }
   ],
   "source": [
    "print(cart.generate_invoice(admin))"
   ]
  },
  {
   "cell_type": "code",
   "execution_count": 10,
   "id": "52c6650e",
   "metadata": {},
   "outputs": [
    {
     "name": "stdout",
     "output_type": "stream",
     "text": [
      "Invoive for sita: \n",
      "======================== \n",
      "socks:$5 \n",
      "shoes:$10 \n",
      "------------------------- \n",
      "Total: $15\n"
     ]
    }
   ],
   "source": [
    "user2=user(\"sita\")\n",
    "print(cart1.generate_invoice(user2))"
   ]
  },
  {
   "cell_type": "markdown",
   "id": "1f59d034",
   "metadata": {},
   "source": [
    "1. cart for a user should be independent from other users\n",
    "\n",
    "answer:since every customer have their own cart while doing shopping. so ,To solve this problem new cart name as cart1 is created for second user.Likewise we can create new cart for new user.\n",
    "\n",
    "2. add a new admin feature 'is admin' that takes in boolean values \"true / false ,and only admin should be alloweded to create other admins or all is_premium=true for other user\n",
    "\n",
    "answer:create_admin method is added to user class which help to make a list of name of customer which will get discount for their shopping."
   ]
  },
  {
   "cell_type": "code",
   "execution_count": 11,
   "id": "763faa4f",
   "metadata": {},
   "outputs": [
    {
     "name": "stdout",
     "output_type": "stream",
     "text": [
      "product:shirt,price:20\n",
      "product:shoes,price:10\n"
     ]
    }
   ],
   "source": [
    "cart3=shopping_cart()\n",
    "cart3.add_product(product1)\n",
    "cart3.add_product(product3)\n",
    "for product in cart3.get_products():\n",
    "        print(f\"product:{product.name},price:{product.price}\")"
   ]
  },
  {
   "cell_type": "code",
   "execution_count": 12,
   "id": "959b1f73",
   "metadata": {},
   "outputs": [
    {
     "name": "stdout",
     "output_type": "stream",
     "text": [
      "['sita']\n"
     ]
    }
   ],
   "source": [
    "#create admin\n",
    "user3=user('sita')\n",
    "user3.create_admin()\n",
    "print(user3.admin)"
   ]
  },
  {
   "cell_type": "code",
   "execution_count": 13,
   "id": "8020dbee",
   "metadata": {},
   "outputs": [],
   "source": [
    "#create user\n",
    "user4=user(\"sita\")"
   ]
  },
  {
   "cell_type": "code",
   "execution_count": 14,
   "id": "e53da547",
   "metadata": {},
   "outputs": [
    {
     "name": "stdout",
     "output_type": "stream",
     "text": [
      "Invoive for sita: \n",
      "======================== \n",
      "shirt:$20 \n",
      "shoes:$10 \n",
      "------------------------- \n",
      "sub-total : $30 \n",
      "discounted price :3.0 \n",
      "------------------------- \n",
      "Total: $27.0\n"
     ]
    }
   ],
   "source": [
    "print( cart3.generate_invoice(user4))"
   ]
  },
  {
   "cell_type": "code",
   "execution_count": 15,
   "id": "06c6dcb5",
   "metadata": {},
   "outputs": [
    {
     "name": "stdout",
     "output_type": "stream",
     "text": [
      "['sita', 'tina']\n"
     ]
    }
   ],
   "source": [
    "#create admin\n",
    "user5=user('tina')\n",
    "user5.create_admin()\n",
    "print(user5.admin)"
   ]
  },
  {
   "cell_type": "code",
   "execution_count": 16,
   "id": "309381ab",
   "metadata": {},
   "outputs": [
    {
     "name": "stdout",
     "output_type": "stream",
     "text": [
      "product:pants,price:50\n",
      "product:socks,price:5\n"
     ]
    }
   ],
   "source": [
    "cart4=shopping_cart()\n",
    "cart4.add_product(product2)\n",
    "cart4.add_product(product4)\n",
    "for product in cart4.get_products():\n",
    "        print(f\"product:{product.name},price:{product.price}\")"
   ]
  },
  {
   "cell_type": "code",
   "execution_count": 17,
   "id": "9e316d8e",
   "metadata": {},
   "outputs": [],
   "source": [
    "#create user\n",
    "user6=user(\"gita\")"
   ]
  },
  {
   "cell_type": "code",
   "execution_count": 18,
   "id": "113534c0",
   "metadata": {},
   "outputs": [
    {
     "name": "stdout",
     "output_type": "stream",
     "text": [
      "Invoive for gita: \n",
      "======================== \n",
      "pants:$50 \n",
      "socks:$5 \n",
      "------------------------- \n",
      "Total: $55\n"
     ]
    }
   ],
   "source": [
    "print( cart4.generate_invoice(user6))"
   ]
  },
  {
   "cell_type": "markdown",
   "id": "a71f75c2",
   "metadata": {},
   "source": [
    "Here gita didnot get discount because she is not in admin list."
   ]
  }
 ],
 "metadata": {
  "kernelspec": {
   "display_name": "Python 3 (ipykernel)",
   "language": "python",
   "name": "python3"
  },
  "language_info": {
   "codemirror_mode": {
    "name": "ipython",
    "version": 3
   },
   "file_extension": ".py",
   "mimetype": "text/x-python",
   "name": "python",
   "nbconvert_exporter": "python",
   "pygments_lexer": "ipython3",
   "version": "3.11.3"
  }
 },
 "nbformat": 4,
 "nbformat_minor": 5
}
