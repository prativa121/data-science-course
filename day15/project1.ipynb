{
 "cells": [
  {
   "cell_type": "markdown",
   "id": "8fa8777d",
   "metadata": {},
   "source": [
    "# we want to build an online shopping cart system\n",
    " problem statement\n",
    " 1. adding product to the cart\n",
    " 2.removing product from the cart\n",
    " 3.calculating the total cost\n",
    " 4.applying discount based on user type\n",
    " 5.generating an invoice\n",
    " "
   ]
  },
  {
   "cell_type": "code",
   "execution_count": 47,
   "id": "a6bc088d",
   "metadata": {},
   "outputs": [],
   "source": [
    "class product:\n",
    "    def __init__(self,name,price):\n",
    "        self.name=name\n",
    "        self.price=price"
   ]
  },
  {
   "cell_type": "code",
   "execution_count": 48,
   "id": "ff639e24",
   "metadata": {},
   "outputs": [],
   "source": [
    "class user:\n",
    "    def __init__(self,name,is_premium=False):\n",
    "        self.name=name\n",
    "        self.is_premium=is_premium"
   ]
  },
  {
   "cell_type": "code",
   "execution_count": 49,
   "id": "7b0179e4",
   "metadata": {},
   "outputs": [],
   "source": [
    "def discounted_10_percent(func):\n",
    "    def wrapper(x):\n",
    "        total_price=func(x)\n",
    "        discount_cost=total_price * 0.9\n",
    "        return discount_cost\n",
    "    return wrapper"
   ]
  },
  {
   "cell_type": "code",
   "execution_count": 50,
   "id": "3720ce40",
   "metadata": {},
   "outputs": [],
   "source": [
    "class shopping_cart:\n",
    "    def __init__(self):\n",
    "        self.products=[]\n",
    "        \n",
    "    def add_product(self,product):\n",
    "        self.products.append(product)\n",
    "        \n",
    "    def remove_product(self,product):\n",
    "        self.products.remove(product)\n",
    "        \n",
    "    def calculate_total_cost(self):\n",
    "        total_cost=sum(product.price for product in self .products)\n",
    "        return total_cost\n",
    "    @discounted_10_percent\n",
    "    def calculate_discounted_cost(self):\n",
    "        total_cost=sum(product.price for product in self.products)\n",
    "        return total_cost\n",
    "    \n",
    "    def generate_invoice(self,user):\n",
    "        invoice=f\"Invoive for {user.name}: \\n\"\n",
    "        invoice+=\"======================== \\n\"\n",
    "        for product in self.products:\n",
    "            invoice+=f\"{product.name}:${product.price} \\n\"\n",
    "        total_cost=self.calculate_total_cost()\n",
    "        if user.is_premium:\n",
    "            invoice+=\"------------------------- \\n\"\n",
    "            invoice+=f\"sub-total : ${total_cost} \\n\"\n",
    "            final_cost=self.calculate_discounted_cost()\n",
    "            invoice+=f\"discounted price :{total_cost-final_cost} \\n\"\n",
    "            total_cost=final_cost\n",
    "        invoice+=\"------------------------- \\n\"\n",
    "        invoice+=f\"Total: ${total_cost}\"\n",
    "        return invoice\n",
    "    \n",
    "    def get_products(self):\n",
    "        yield from self.products\n",
    "            \n",
    "            \n",
    "            \n",
    "            \n",
    "        "
   ]
  },
  {
   "cell_type": "code",
   "execution_count": 51,
   "id": "67961db0",
   "metadata": {},
   "outputs": [],
   "source": [
    "#create product\n",
    "product1=product(\"shirt\",20)\n",
    "product2=product(\"pants\",50)\n",
    "product3=product(\"shoes\",10)"
   ]
  },
  {
   "cell_type": "code",
   "execution_count": 52,
   "id": "6bd25ba3",
   "metadata": {},
   "outputs": [
    {
     "name": "stdout",
     "output_type": "stream",
     "text": [
      "product:shirt,price:20\n",
      "product:pants,price:50\n"
     ]
    }
   ],
   "source": [
    "cart=shopping_cart()\n",
    "cart.add_product(product1)\n",
    "cart.add_product(product2)\n",
    "for product in cart.get_products():\n",
    "        print(f\"product:{product.name},price:{product.price}\")\n"
   ]
  },
  {
   "cell_type": "code",
   "execution_count": 53,
   "id": "0f87727d",
   "metadata": {},
   "outputs": [],
   "source": [
    "#create a user\n",
    "user1=user(\"ram\",is_premium=False)"
   ]
  },
  {
   "cell_type": "code",
   "execution_count": 54,
   "id": "8fbbe296",
   "metadata": {},
   "outputs": [
    {
     "name": "stdout",
     "output_type": "stream",
     "text": [
      "Invoive for ram: \n",
      "======================== \n",
      "shirt:$20 \n",
      "pants:$50 \n",
      "------------------------- \n",
      "Total: $70\n"
     ]
    }
   ],
   "source": [
    "print( cart.generate_invoice(user1))"
   ]
  },
  {
   "cell_type": "code",
   "execution_count": 56,
   "id": "b9702ac5",
   "metadata": {},
   "outputs": [
    {
     "name": "stdout",
     "output_type": "stream",
     "text": [
      "product:pants,price:50\n",
      "product:shoes,price:10\n"
     ]
    }
   ],
   "source": [
    "cart1=shopping_cart()\n",
    "cart1.add_product(product2)\n",
    "cart1.add_product(product3)\n",
    "for product in cart1.get_products():\n",
    "        print(f\"product:{product.name},price:{product.price}\")\n"
   ]
  },
  {
   "cell_type": "code",
   "execution_count": 57,
   "id": "52c6650e",
   "metadata": {},
   "outputs": [
    {
     "name": "stdout",
     "output_type": "stream",
     "text": [
      "Invoive for sita: \n",
      "======================== \n",
      "pants:$50 \n",
      "shoes:$10 \n",
      "------------------------- \n",
      "sub-total : $60 \n",
      "discounted price :6.0 \n",
      "------------------------- \n",
      "Total: $54.0\n"
     ]
    }
   ],
   "source": [
    "user2=user(\"sita\",is_premium=True)\n",
    "print(cart1.generate_invoice(user2))"
   ]
  },
  {
   "cell_type": "markdown",
   "id": "1f59d034",
   "metadata": {},
   "source": [
    "####1.cart for a user should be independent from other users\n",
    "####2 add a new admin feature 'is admin' that takes in boolean values \"true / false ,and only admin should be alloweded to create premium user"
   ]
  }
 ],
 "metadata": {
  "kernelspec": {
   "display_name": "Python 3 (ipykernel)",
   "language": "python",
   "name": "python3"
  },
  "language_info": {
   "codemirror_mode": {
    "name": "ipython",
    "version": 3
   },
   "file_extension": ".py",
   "mimetype": "text/x-python",
   "name": "python",
   "nbconvert_exporter": "python",
   "pygments_lexer": "ipython3",
   "version": "3.11.3"
  }
 },
 "nbformat": 4,
 "nbformat_minor": 5
}
