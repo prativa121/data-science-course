{
 "cells": [
  {
   "cell_type": "code",
   "execution_count": 1,
   "id": "0ab9ce52",
   "metadata": {},
   "outputs": [],
   "source": [
    "import sympy as sp\n"
   ]
  },
  {
   "cell_type": "code",
   "execution_count": 2,
   "id": "6670ec28",
   "metadata": {},
   "outputs": [
    {
     "name": "stdout",
     "output_type": "stream",
     "text": [
      "cos(x)\n"
     ]
    }
   ],
   "source": [
    "x=sp.symbols('x')\n",
    "f=sp.sin(x)\n",
    "dfdx=sp.diff(f,x)\n",
    "print(dfdx)"
   ]
  },
  {
   "cell_type": "code",
   "execution_count": 3,
   "id": "2fb11ed4",
   "metadata": {},
   "outputs": [
    {
     "name": "stdout",
     "output_type": "stream",
     "text": [
      "-sin(x)\n"
     ]
    }
   ],
   "source": [
    "d2fdx2=sp.diff(f,x,2)\n",
    "print(d2fdx2)"
   ]
  },
  {
   "cell_type": "code",
   "execution_count": 4,
   "id": "33d7b901",
   "metadata": {},
   "outputs": [
    {
     "name": "stdout",
     "output_type": "stream",
     "text": [
      "-sin(x)\n"
     ]
    }
   ],
   "source": [
    "x=sp.symbols('x')\n",
    "f=sp.sin(x)\n",
    "dfdx=sp.diff(f,x)\n",
    "dfdx2=sp.diff(dfdx,x)\n",
    "print(dfdx2)"
   ]
  },
  {
   "cell_type": "markdown",
   "id": "83d526dd",
   "metadata": {},
   "source": [
    "## implicit differentiation"
   ]
  },
  {
   "cell_type": "code",
   "execution_count": 5,
   "id": "97037d4c",
   "metadata": {},
   "outputs": [
    {
     "name": "stdout",
     "output_type": "stream",
     "text": [
      "-x/y\n"
     ]
    }
   ],
   "source": [
    "x,y=sp.symbols('x y')\n",
    "f=x**2 + y**2 -4\n",
    "dfdx=sp.diff(f,x)\n",
    "dfdy=sp.diff(f,y)\n",
    "dydx=-dfdx/dfdy\n",
    "print(dydx)"
   ]
  },
  {
   "cell_type": "markdown",
   "id": "246cba91",
   "metadata": {},
   "source": [
    "## partial differentiation"
   ]
  },
  {
   "cell_type": "code",
   "execution_count": 18,
   "id": "22a571e5",
   "metadata": {},
   "outputs": [
    {
     "name": "stdout",
     "output_type": "stream",
     "text": [
      "partial differentiation wrt x 8\n",
      "partial differentiation wrt y 7\n"
     ]
    }
   ],
   "source": [
    "x,y=sp.symbols('x y')\n",
    "f=x**2 + 3*x*y+y**2\n",
    "#find partial differentation\n",
    "dfdx=sp.diff(f,x)\n",
    "dfdy=sp.diff(f,y)\n",
    "#evaluate the partial derivatives at a point\n",
    "point={x:1,y:2}\n",
    "df_dx_atpoint=dfdx.subs(point)\n",
    "df_dy_atpoint=dfdy.subs(point)\n",
    "print(\"partial differentiation wrt x\",df_dx_atpoint)\n",
    "print(\"partial differentiation wrt y\" ,df_dy_atpoint)\n"
   ]
  },
  {
   "cell_type": "markdown",
   "id": "77646565",
   "metadata": {},
   "source": [
    "## gradient descent"
   ]
  },
  {
   "cell_type": "code",
   "execution_count": 23,
   "id": "7e140002",
   "metadata": {},
   "outputs": [],
   "source": [
    "import numpy as np"
   ]
  },
  {
   "cell_type": "code",
   "execution_count": 24,
   "id": "630ca425",
   "metadata": {},
   "outputs": [],
   "source": [
    "def f(x,y):\n",
    "    return x**2+2*y"
   ]
  },
  {
   "cell_type": "code",
   "execution_count": 25,
   "id": "469c8034",
   "metadata": {},
   "outputs": [],
   "source": [
    "def gradient(x,y):\n",
    "    df_dx=2*x\n",
    "    df_dy=2\n",
    "    return np.array([df_dx,df_dy])"
   ]
  },
  {
   "cell_type": "code",
   "execution_count": 26,
   "id": "f84f04fa",
   "metadata": {},
   "outputs": [
    {
     "name": "stdout",
     "output_type": "stream",
     "text": [
      "[4 2]\n"
     ]
    }
   ],
   "source": [
    "#test the gradient\n",
    "x=2\n",
    "y=3\n",
    "grads=gradient(x,y)\n",
    "print(grads)"
   ]
  },
  {
   "cell_type": "code",
   "execution_count": 27,
   "id": "1765c95f",
   "metadata": {},
   "outputs": [],
   "source": [
    "def gradient_descent(starting_point,learning_rate,num_iteration):\n",
    "    #initialize parameter\n",
    "    point=starting_point\n",
    "    #iterate\n",
    "    for i in range (num_iteration):\n",
    "        #compute the gradient\n",
    "        grad=gradient(point[0],point[1])\n",
    "        \n",
    "        #update parameter\n",
    "        point=point-learning_rate*grad\n",
    "        \n",
    "    return point"
   ]
  },
  {
   "cell_type": "code",
   "execution_count": 29,
   "id": "1a9721b4",
   "metadata": {},
   "outputs": [
    {
     "name": "stdout",
     "output_type": "stream",
     "text": [
      "optimal point :  [ 4.07407195e-10 -1.70000000e+01]\n",
      "optimal value:  -33.99999999999995\n"
     ]
    }
   ],
   "source": [
    "# test the gradient descent function\n",
    "starting_point=np.array([2,3])\n",
    "learning_rate=0.1\n",
    "num_iteration=100\n",
    "optimum=gradient_descent(starting_point,learning_rate,num_iteration)\n",
    "print(\"optimal point : \", optimum)\n",
    "print(\"optimal value: \",f(optimum[0],optimum[1]))"
   ]
  },
  {
   "cell_type": "code",
   "execution_count": null,
   "id": "d74b0309",
   "metadata": {},
   "outputs": [],
   "source": []
  }
 ],
 "metadata": {
  "kernelspec": {
   "display_name": "Python 3 (ipykernel)",
   "language": "python",
   "name": "python3"
  },
  "language_info": {
   "codemirror_mode": {
    "name": "ipython",
    "version": 3
   },
   "file_extension": ".py",
   "mimetype": "text/x-python",
   "name": "python",
   "nbconvert_exporter": "python",
   "pygments_lexer": "ipython3",
   "version": "3.11.3"
  }
 },
 "nbformat": 4,
 "nbformat_minor": 5
}
