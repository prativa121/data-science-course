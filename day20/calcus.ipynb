{
 "cells": [
  {
   "cell_type": "code",
   "execution_count": 5,
   "id": "42074a08",
   "metadata": {},
   "outputs": [],
   "source": [
    "import sympy as sp"
   ]
  },
  {
   "cell_type": "code",
   "execution_count": 4,
   "id": "3e7a3ea0",
   "metadata": {},
   "outputs": [
    {
     "name": "stdout",
     "output_type": "stream",
     "text": [
      "Requirement already satisfied: sympy in c:\\users\\prativa\\startpython\\myenv\\lib\\site-packages (1.12)Note: you may need to restart the kernel to use updated packages.\n",
      "\n",
      "Requirement already satisfied: mpmath>=0.19 in c:\\users\\prativa\\startpython\\myenv\\lib\\site-packages (from sympy) (1.3.0)\n"
     ]
    },
    {
     "name": "stderr",
     "output_type": "stream",
     "text": [
      "\n",
      "[notice] A new release of pip available: 22.3.1 -> 23.1.2\n",
      "[notice] To update, run: python.exe -m pip install --upgrade pip\n"
     ]
    }
   ],
   "source": [
    "#pip install sympy"
   ]
  },
  {
   "cell_type": "markdown",
   "id": "87de280f",
   "metadata": {},
   "source": [
    "### limit of a function"
   ]
  },
  {
   "cell_type": "code",
   "execution_count": 7,
   "id": "001a15ef",
   "metadata": {},
   "outputs": [
    {
     "name": "stdout",
     "output_type": "stream",
     "text": [
      "2\n"
     ]
    }
   ],
   "source": [
    "x=sp.symbols('x')\n",
    "f=(x**2-1)/(x-1)\n",
    "limit=sp.limit(f,x,1)\n",
    "print(limit)"
   ]
  },
  {
   "cell_type": "markdown",
   "id": "33319151",
   "metadata": {},
   "source": [
    "## DERIVATIVE"
   ]
  },
  {
   "cell_type": "code",
   "execution_count": 8,
   "id": "6e7cba32",
   "metadata": {},
   "outputs": [
    {
     "name": "stdout",
     "output_type": "stream",
     "text": [
      "cos(x)\n"
     ]
    }
   ],
   "source": [
    "x=sp.symbols('x')\n",
    "f=sp.sin(x)\n",
    "dfdx=sp.diff(f,x)\n",
    "print(dfdx)"
   ]
  },
  {
   "cell_type": "code",
   "execution_count": null,
   "id": "8f35491e",
   "metadata": {},
   "outputs": [],
   "source": []
  },
  {
   "cell_type": "code",
   "execution_count": null,
   "id": "761e3d36",
   "metadata": {},
   "outputs": [],
   "source": []
  },
  {
   "cell_type": "code",
   "execution_count": null,
   "id": "fa13f543",
   "metadata": {},
   "outputs": [],
   "source": []
  },
  {
   "cell_type": "code",
   "execution_count": null,
   "id": "2d9c62fe",
   "metadata": {},
   "outputs": [],
   "source": []
  },
  {
   "cell_type": "code",
   "execution_count": null,
   "id": "d8b633e6",
   "metadata": {},
   "outputs": [],
   "source": []
  }
 ],
 "metadata": {
  "kernelspec": {
   "display_name": "Python 3 (ipykernel)",
   "language": "python",
   "name": "python3"
  },
  "language_info": {
   "codemirror_mode": {
    "name": "ipython",
    "version": 3
   },
   "file_extension": ".py",
   "mimetype": "text/x-python",
   "name": "python",
   "nbconvert_exporter": "python",
   "pygments_lexer": "ipython3",
   "version": "3.11.3"
  }
 },
 "nbformat": 4,
 "nbformat_minor": 5
}
