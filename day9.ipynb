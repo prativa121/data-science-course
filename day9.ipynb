{
 "cells": [
  {
   "cell_type": "code",
   "execution_count": 6,
   "id": "76f8ce60",
   "metadata": {},
   "outputs": [],
   "source": [
    "class exmple:\n",
    "    def add(self,a,b=None,c=None):\n",
    "        if b is not None and C is not None:\n",
    "            return a+b+c\n",
    "        elif b is not None:\n",
    "            return a+b\n",
    "        else:\n",
    "            return a"
   ]
  },
  {
   "cell_type": "code",
   "execution_count": 7,
   "id": "8231e96e",
   "metadata": {},
   "outputs": [],
   "source": [
    "example1=exmple()"
   ]
  },
  {
   "cell_type": "code",
   "execution_count": 8,
   "id": "5b003be8",
   "metadata": {},
   "outputs": [],
   "source": [
    "val=exmple.add(1,2)"
   ]
  },
  {
   "cell_type": "code",
   "execution_count": 9,
   "id": "9197dbf4",
   "metadata": {},
   "outputs": [
    {
     "data": {
      "text/plain": [
       "2"
      ]
     },
     "execution_count": 9,
     "metadata": {},
     "output_type": "execute_result"
    }
   ],
   "source": [
    "val"
   ]
  },
  {
   "cell_type": "code",
   "execution_count": 24,
   "id": "42972d06",
   "metadata": {},
   "outputs": [],
   "source": [
    "class example:\n",
    "    def add(self,*args):\n",
    "        if len(args)==1:\n",
    "            return args[0]\n",
    "        elif len(args)==2:\n",
    "            return args[0]+args[1]\n",
    "        elif len(args)==3:\n",
    "            return args[0]+args[1]+args[2]\n",
    "    "
   ]
  },
  {
   "cell_type": "code",
   "execution_count": 25,
   "id": "bec55262",
   "metadata": {},
   "outputs": [],
   "source": [
    "exa=example()"
   ]
  },
  {
   "cell_type": "code",
   "execution_count": 26,
   "id": "74d65f4a",
   "metadata": {},
   "outputs": [],
   "source": [
    "val1=exa.add(1)"
   ]
  },
  {
   "cell_type": "code",
   "execution_count": 27,
   "id": "5330ef85",
   "metadata": {},
   "outputs": [
    {
     "name": "stdout",
     "output_type": "stream",
     "text": [
      "1\n"
     ]
    }
   ],
   "source": [
    "print(val1)"
   ]
  },
  {
   "cell_type": "code",
   "execution_count": 28,
   "id": "92baa7eb",
   "metadata": {},
   "outputs": [],
   "source": [
    "val2=exa.add(1,2)"
   ]
  },
  {
   "cell_type": "code",
   "execution_count": 29,
   "id": "aafbe41b",
   "metadata": {},
   "outputs": [
    {
     "name": "stdout",
     "output_type": "stream",
     "text": [
      "3\n"
     ]
    }
   ],
   "source": [
    "print(val2)"
   ]
  },
  {
   "cell_type": "code",
   "execution_count": 30,
   "id": "59dd9e1e",
   "metadata": {},
   "outputs": [],
   "source": [
    "val3=exa.add(12,3,4)"
   ]
  },
  {
   "cell_type": "code",
   "execution_count": 31,
   "id": "65dd1c5e",
   "metadata": {},
   "outputs": [
    {
     "name": "stdout",
     "output_type": "stream",
     "text": [
      "19\n"
     ]
    }
   ],
   "source": [
    "print(val3)"
   ]
  },
  {
   "cell_type": "code",
   "execution_count": 32,
   "id": "dc01a639",
   "metadata": {},
   "outputs": [],
   "source": [
    "val4=exa.add(1,2,3,4)"
   ]
  },
  {
   "cell_type": "code",
   "execution_count": 33,
   "id": "d567abe6",
   "metadata": {},
   "outputs": [
    {
     "name": "stdout",
     "output_type": "stream",
     "text": [
      "None\n"
     ]
    }
   ],
   "source": [
    "print(val4)"
   ]
  },
  {
   "cell_type": "code",
   "execution_count": null,
   "id": "fa6f8899",
   "metadata": {},
   "outputs": [],
   "source": []
  }
 ],
 "metadata": {
  "kernelspec": {
   "display_name": "Python 3 (ipykernel)",
   "language": "python",
   "name": "python3"
  },
  "language_info": {
   "codemirror_mode": {
    "name": "ipython",
    "version": 3
   },
   "file_extension": ".py",
   "mimetype": "text/x-python",
   "name": "python",
   "nbconvert_exporter": "python",
   "pygments_lexer": "ipython3",
   "version": "3.11.3"
  }
 },
 "nbformat": 4,
 "nbformat_minor": 5
}
