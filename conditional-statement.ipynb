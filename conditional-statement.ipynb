{
 "cells": [
  {
   "cell_type": "code",
   "execution_count": 1,
   "id": "8fd896da",
   "metadata": {},
   "outputs": [],
   "source": [
    "#conditional statement\n"
   ]
  },
  {
   "cell_type": "code",
   "execution_count": 4,
   "id": "ac0541e2",
   "metadata": {},
   "outputs": [
    {
     "name": "stdout",
     "output_type": "stream",
     "text": [
      "enter a number23\n"
     ]
    }
   ],
   "source": [
    "a=int(input(\"enter a number\"))"
   ]
  },
  {
   "cell_type": "code",
   "execution_count": 5,
   "id": "3d67c127",
   "metadata": {},
   "outputs": [
    {
     "data": {
      "text/plain": [
       "23"
      ]
     },
     "execution_count": 5,
     "metadata": {},
     "output_type": "execute_result"
    }
   ],
   "source": [
    "a"
   ]
  },
  {
   "cell_type": "code",
   "execution_count": 6,
   "id": "041c4b4c",
   "metadata": {},
   "outputs": [
    {
     "data": {
      "text/plain": [
       "int"
      ]
     },
     "execution_count": 6,
     "metadata": {},
     "output_type": "execute_result"
    }
   ],
   "source": [
    "type(a)"
   ]
  },
  {
   "cell_type": "code",
   "execution_count": 7,
   "id": "cf696eb0",
   "metadata": {},
   "outputs": [
    {
     "name": "stdout",
     "output_type": "stream",
     "text": [
      "23 is a positive number\n"
     ]
    }
   ],
   "source": [
    "if a>0:\n",
    "    print(f'{a} is a positive number')\n",
    "else:\n",
    "    print(f'{a} is a negative number')"
   ]
  },
  {
   "cell_type": "code",
   "execution_count": 8,
   "id": "8eb1406e",
   "metadata": {},
   "outputs": [
    {
     "name": "stdout",
     "output_type": "stream",
     "text": [
      "23 is a positive number\n"
     ]
    }
   ],
   "source": [
    "if a>0:\n",
    "    print(f'{a} is a positive number')\n",
    "elif a==0:\n",
    "    print(f'{a} is a neutral number')\n",
    "else:\n",
    "    print(f'{a} is a negative number')"
   ]
  },
  {
   "cell_type": "code",
   "execution_count": 9,
   "id": "6717a336",
   "metadata": {},
   "outputs": [],
   "source": [
    "a=200"
   ]
  },
  {
   "cell_type": "code",
   "execution_count": 11,
   "id": "e098a184",
   "metadata": {},
   "outputs": [
    {
     "name": "stdout",
     "output_type": "stream",
     "text": [
      "200 is a large number\n"
     ]
    }
   ],
   "source": [
    "if a>0 and a<100:\n",
    "    print(f'{a} is a positive number')\n",
    "elif a==0:\n",
    "    print(f'{a} is a neutral number')\n",
    "elif a>100:\n",
    "    print(f'{a} is a large number')\n",
    "else:\n",
    "    print(f'{a} is a negative number')"
   ]
  },
  {
   "cell_type": "code",
   "execution_count": 15,
   "id": "fd1d1e64",
   "metadata": {},
   "outputs": [
    {
     "name": "stdout",
     "output_type": "stream",
     "text": [
      "enter a number-567\n",
      "-567 is a large negative number\n"
     ]
    }
   ],
   "source": [
    "a=int(input('enter a number'))\n",
    "if a>0:\n",
    "    if a>100:\n",
    "        print(f'{a} is a large positive number')\n",
    "    else:\n",
    "        print(f'{a} is a positive number')\n",
    "        \n",
    "elif a==0:\n",
    "    print(f'{a} is a neutral number')\n",
    "else:\n",
    "    if a< -100:\n",
    "        print(f'{a} is a large negative number')\n",
    "    else:\n",
    "        print(f'{a} is a negative number')"
   ]
  },
  {
   "cell_type": "code",
   "execution_count": null,
   "id": "b722d359",
   "metadata": {},
   "outputs": [],
   "source": []
  }
 ],
 "metadata": {
  "kernelspec": {
   "display_name": "Python 3 (ipykernel)",
   "language": "python",
   "name": "python3"
  },
  "language_info": {
   "codemirror_mode": {
    "name": "ipython",
    "version": 3
   },
   "file_extension": ".py",
   "mimetype": "text/x-python",
   "name": "python",
   "nbconvert_exporter": "python",
   "pygments_lexer": "ipython3",
   "version": "3.11.3"
  }
 },
 "nbformat": 4,
 "nbformat_minor": 5
}
