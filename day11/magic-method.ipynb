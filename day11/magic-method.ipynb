{
 "cells": [
  {
   "cell_type": "code",
   "execution_count": 1,
   "id": "881573ee",
   "metadata": {},
   "outputs": [],
   "source": [
    "class person:\n",
    "    def __init__(self,name,age):\n",
    "        self.name=name\n",
    "        self.age=age\n",
    "        \n",
    "    def __str__(self):\n",
    "        return f\"{self.name} is {self.age} year old\"\n",
    "\n",
    "\n",
    "    def __repr__(self):\n",
    "        return f\"person({self.name} is {self.age} year old)\"\n",
    "      \n",
    "        \n",
    "    def __len__(self):\n",
    "        return self.age\n",
    "    \n",
    "    def __call__(self):\n",
    "        return f\"{self.name} is being called\"\n",
    "    \n",
    "    \n",
    "        "
   ]
  },
  {
   "cell_type": "code",
   "execution_count": 7,
   "id": "0c0ac39e",
   "metadata": {},
   "outputs": [
    {
     "name": "stdout",
     "output_type": "stream",
     "text": [
      "ram is 30 year old\n",
      "ram is 30 year old\n",
      "person(ram is 30 year old)\n",
      "30\n",
      "ram is being called\n"
     ]
    }
   ],
   "source": [
    "pers=person(\"ram\",30)\n",
    "print(pers)\n",
    "print(str(pers))\n",
    "print(repr(pers))\n",
    "print(len(pers))\n",
    "print(pers())"
   ]
  },
  {
   "cell_type": "code",
   "execution_count": 19,
   "id": "3223f306",
   "metadata": {},
   "outputs": [],
   "source": [
    "class person:\n",
    "    def __init__(self,name,age):\n",
    "        self.name=name\n",
    "        self.age=age\n",
    "        \n",
    "    \n",
    "\n",
    "\n",
    "    def __repr__(self):\n",
    "        return f\"person({self.name} is {self.age} year old)\"\n",
    "    \n",
    "   # def __str__(self):\n",
    "    #    return f\"{self.name} is {self.age} year old\"\n",
    "      \n",
    "        \n",
    "    def __len__(self):\n",
    "        return self.age\n",
    "    \n",
    "    def __call__(self):\n",
    "        return f\"{self.name} is being called\""
   ]
  },
  {
   "cell_type": "code",
   "execution_count": 20,
   "id": "11048ccc",
   "metadata": {},
   "outputs": [
    {
     "name": "stdout",
     "output_type": "stream",
     "text": [
      "person(sita is 23 year old)\n",
      "person(sita is 23 year old)\n"
     ]
    }
   ],
   "source": [
    "p=person(\"sita\",23)\n",
    "print(p)\n",
    "print(str(p))"
   ]
  },
  {
   "cell_type": "code",
   "execution_count": 17,
   "id": "eaf6da37",
   "metadata": {},
   "outputs": [],
   "source": [
    "class person:\n",
    "    def __init__(self,name,age):\n",
    "        self.name=name\n",
    "        self.age=age\n",
    "        \n",
    "    def __str__(self):\n",
    "        return f\"{self.name} is {self.age} year old\"\n",
    "      \n",
    "        \n",
    "    def __len__(self):\n",
    "        return self.age\n",
    "    \n",
    "    def __call__(self):\n",
    "        return f\"{self.name} is being called\""
   ]
  },
  {
   "cell_type": "code",
   "execution_count": 23,
   "id": "98e15889",
   "metadata": {},
   "outputs": [
    {
     "name": "stdout",
     "output_type": "stream",
     "text": [
      "person(ram is 30 year old)\n",
      "person(ram is 30 year old)\n",
      "person(ram is 30 year old)\n",
      "30\n",
      "ram is being called\n"
     ]
    }
   ],
   "source": [
    "pers=person(\"ram\",30)\n",
    "print(pers)\n",
    "print(str(pers))\n",
    "print(repr(pers))\n",
    "print(len(pers))\n",
    "print(pers())"
   ]
  },
  {
   "cell_type": "code",
   "execution_count": 53,
   "id": "793af2da",
   "metadata": {},
   "outputs": [],
   "source": [
    "class point:\n",
    "    def __init__(self,x,y):\n",
    "        self.x=x\n",
    "        self.y=y\n",
    "        \n",
    "    def __repr__(self):\n",
    "        return f\"({self.x},{self.y})\"\n",
    "        \n",
    "    def __add__(self,other):\n",
    "        \n",
    "        x=self.x + other.x\n",
    "        y=self.y + other.y\n",
    "        return point(x,y)\n",
    "        \n",
    "    def __sub__(self,other):\n",
    "        x=self.x -  other.x\n",
    "        y=self.y - other.y\n",
    "        return point(x,y)\n",
    "    \n",
    "    def __mul__(self,other):\n",
    "        x=self.x *  other.x\n",
    "        y=self.y * other.y\n",
    "        return point(x,y)\n",
    "    \n",
    "    def __truediv__(self,other):\n",
    "        x=self.x /  other.x\n",
    "        y=self.y / other.y\n",
    "        return point(x,y)\n",
    "    \n",
    "    def __eq__(self,other):\n",
    "        return self.x==other.x and self.y==other.y\n",
    "     \n",
    "    \n",
    "    def __lt__(self,other):\n",
    "        return self.x < other.x and self.y < other.y\n",
    "    \n",
    "        \n",
    "    \n",
    "\n",
    "        \n",
    "    \n"
   ]
  },
  {
   "cell_type": "code",
   "execution_count": 54,
   "id": "5a6ff58d",
   "metadata": {},
   "outputs": [
    {
     "name": "stdout",
     "output_type": "stream",
     "text": [
      "(10,11)\n",
      "(6,5)\n",
      "(0.25,0.375)\n",
      "False\n",
      "True\n"
     ]
    }
   ],
   "source": [
    "p1=point(2,3)\n",
    "p2=point(8,8)\n",
    "print(p1 + p2)\n",
    "print(p2 - p1)\n",
    "print(p1 / p2)\n",
    "print(p1 == p2)\n",
    "print(p1 < p2)"
   ]
  },
  {
   "cell_type": "code",
   "execution_count": 40,
   "id": "fe37dfa3",
   "metadata": {},
   "outputs": [],
   "source": []
  },
  {
   "cell_type": "code",
   "execution_count": null,
   "id": "46d6269c",
   "metadata": {},
   "outputs": [],
   "source": []
  },
  {
   "cell_type": "code",
   "execution_count": null,
   "id": "e9fa0918",
   "metadata": {},
   "outputs": [],
   "source": []
  }
 ],
 "metadata": {
  "kernelspec": {
   "display_name": "Python 3 (ipykernel)",
   "language": "python",
   "name": "python3"
  },
  "language_info": {
   "codemirror_mode": {
    "name": "ipython",
    "version": 3
   },
   "file_extension": ".py",
   "mimetype": "text/x-python",
   "name": "python",
   "nbconvert_exporter": "python",
   "pygments_lexer": "ipython3",
   "version": "3.11.3"
  }
 },
 "nbformat": 4,
 "nbformat_minor": 5
}
