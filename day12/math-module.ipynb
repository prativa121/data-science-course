{
 "cells": [
  {
   "cell_type": "code",
   "execution_count": 2,
   "id": "fdd8b51c",
   "metadata": {},
   "outputs": [
    {
     "name": "stdout",
     "output_type": "stream",
     "text": [
      "8.0\n",
      "4.0\n",
      "5\n",
      "-5\n",
      "-4\n",
      "4.0\n"
     ]
    }
   ],
   "source": [
    "import math\n",
    "\n",
    "print(math.pow(2,3))\n",
    "print(math.sqrt(16))\n",
    "print(math.ceil(4.1))\n",
    "print(math.floor(-4.5))\n",
    "print(math.trunc(-4.1))\n",
    "print(math.fabs(-4))"
   ]
  },
  {
   "cell_type": "code",
   "execution_count": 3,
   "id": "85a5d58c",
   "metadata": {},
   "outputs": [
    {
     "name": "stdout",
     "output_type": "stream",
     "text": [
      "3.141592653589793\n"
     ]
    }
   ],
   "source": [
    "print(math.pi)"
   ]
  },
  {
   "cell_type": "code",
   "execution_count": 7,
   "id": "7066a8df",
   "metadata": {},
   "outputs": [
    {
     "name": "stdout",
     "output_type": "stream",
     "text": [
      "2.718281828459045\n",
      "6.283185307179586\n",
      "nan\n"
     ]
    }
   ],
   "source": [
    "print(math.e)\n",
    "print(math.tau)\n",
    "print(math.nan)"
   ]
  },
  {
   "cell_type": "code",
   "execution_count": 11,
   "id": "03a0f598",
   "metadata": {},
   "outputs": [
    {
     "name": "stdout",
     "output_type": "stream",
     "text": [
      "7.38905609893065\n",
      "1.791759469228055\n",
      "0.7781512503836436\n"
     ]
    }
   ],
   "source": [
    "print(math.exp(2))\n",
    "print(math.log(6))\n",
    "print(math.log10(6))"
   ]
  },
  {
   "cell_type": "code",
   "execution_count": 18,
   "id": "0b7c66a9",
   "metadata": {},
   "outputs": [
    {
     "name": "stdout",
     "output_type": "stream",
     "text": [
      "1.0\n",
      "6.123233995736766e-17\n",
      "0.17453292519943295\n",
      "1.633123935319537e+16\n",
      "5.0\n",
      "90.0\n"
     ]
    }
   ],
   "source": [
    "print(math.sin(math.pi/2))\n",
    "print(math.cos(math.pi/2))\n",
    "print(math.radians(10))\n",
    "print(math.tan(math.pi/2))\n",
    "print(math.hypot(3,4))\n",
    "print(math.degrees(math.pi/2))"
   ]
  },
  {
   "cell_type": "code",
   "execution_count": 23,
   "id": "1af04557",
   "metadata": {},
   "outputs": [
    {
     "name": "stdout",
     "output_type": "stream",
     "text": [
      "120\n",
      "10\n",
      "True\n",
      "3\n",
      "5.196152422706632\n",
      "0.5204998778130465\n",
      "24.0\n",
      "60\n"
     ]
    }
   ],
   "source": [
    "print(math.factorial(5))\n",
    "print(math.comb(5,2))\n",
    "print(math.isclose(0.1 + 0.2, 0.3))\n",
    "print(math.isqrt(15))\n",
    "p=(1,2,3)\n",
    "q=(4,5,6)\n",
    "print(math.dist(p,q))\n",
    "print(math.erf(0.5))\n",
    "print(math.gamma(5))\n",
    "print(math.perm(5,3))\n"
   ]
  },
  {
   "cell_type": "code",
   "execution_count": null,
   "id": "e0eee674",
   "metadata": {},
   "outputs": [],
   "source": []
  }
 ],
 "metadata": {
  "kernelspec": {
   "display_name": "Python 3 (ipykernel)",
   "language": "python",
   "name": "python3"
  },
  "language_info": {
   "codemirror_mode": {
    "name": "ipython",
    "version": 3
   },
   "file_extension": ".py",
   "mimetype": "text/x-python",
   "name": "python",
   "nbconvert_exporter": "python",
   "pygments_lexer": "ipython3",
   "version": "3.11.3"
  }
 },
 "nbformat": 4,
 "nbformat_minor": 5
}
