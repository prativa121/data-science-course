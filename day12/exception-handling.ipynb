{
 "cells": [
  {
   "cell_type": "code",
   "execution_count": 9,
   "id": "fa4e58cd",
   "metadata": {},
   "outputs": [
    {
     "name": "stdout",
     "output_type": "stream",
     "text": [
      "enter a number :abc\n",
      "invalid input\n"
     ]
    }
   ],
   "source": [
    "try:\n",
    "    num=int(input(\"enter a number :\"))\n",
    "    print(num)\n",
    "    \n",
    "except ValueError:\n",
    "    print(\"invalid input\")"
   ]
  },
  {
   "cell_type": "markdown",
   "id": "2f2b2038",
   "metadata": {},
   "source": [
    "# exception handling \n",
    "\n",
    "exception handling syntax:\n",
    "\n",
    "try:\n",
    "  code that may cause exception\n",
    "  \n",
    "except:\n",
    "  code to when when exception occur\n",
    "  \n",
    "it helps user to understand the error in form of message rather than code form.\n",
    "\n",
    "  \n",
    "  "
   ]
  },
  {
   "cell_type": "code",
   "execution_count": 10,
   "id": "ee9f9643",
   "metadata": {},
   "outputs": [
    {
     "name": "stdout",
     "output_type": "stream",
     "text": [
      "enter a number :2\n",
      "enter second number :0\n",
      "cannot divide by zero\n"
     ]
    }
   ],
   "source": [
    "try:\n",
    "    num1=int(input(\"enter a number :\"))\n",
    "    num2=int(input(\"enter second number :\"))\n",
    "    res=num1/num2\n",
    "    print(res)\n",
    "    \n",
    "except ValueError:\n",
    "    print(\"invalid input\")\n",
    "    \n",
    "except ZeroDivisionError:\n",
    "    print(\"cannot divide by zero\")"
   ]
  },
  {
   "cell_type": "code",
   "execution_count": 12,
   "id": "387cef75",
   "metadata": {},
   "outputs": [
    {
     "name": "stdout",
     "output_type": "stream",
     "text": [
      "enter a number :2\n",
      "enter second number :0\n"
     ]
    },
    {
     "ename": "ZeroDivisionError",
     "evalue": "division by zero",
     "output_type": "error",
     "traceback": [
      "\u001b[1;31m---------------------------------------------------------------------------\u001b[0m",
      "\u001b[1;31mZeroDivisionError\u001b[0m                         Traceback (most recent call last)",
      "Cell \u001b[1;32mIn[12], line 4\u001b[0m\n\u001b[0;32m      2\u001b[0m     num1\u001b[38;5;241m=\u001b[39m\u001b[38;5;28mint\u001b[39m(\u001b[38;5;28minput\u001b[39m(\u001b[38;5;124m\"\u001b[39m\u001b[38;5;124menter a number :\u001b[39m\u001b[38;5;124m\"\u001b[39m))\n\u001b[0;32m      3\u001b[0m     num2\u001b[38;5;241m=\u001b[39m\u001b[38;5;28mint\u001b[39m(\u001b[38;5;28minput\u001b[39m(\u001b[38;5;124m\"\u001b[39m\u001b[38;5;124menter second number :\u001b[39m\u001b[38;5;124m\"\u001b[39m))\n\u001b[1;32m----> 4\u001b[0m     res\u001b[38;5;241m=\u001b[39m\u001b[43mnum1\u001b[49m\u001b[38;5;241;43m/\u001b[39;49m\u001b[43mnum2\u001b[49m\n\u001b[0;32m      5\u001b[0m     \u001b[38;5;28mprint\u001b[39m(res)\n\u001b[0;32m      7\u001b[0m \u001b[38;5;28;01mexcept\u001b[39;00m \u001b[38;5;167;01mValueError\u001b[39;00m:\n",
      "\u001b[1;31mZeroDivisionError\u001b[0m: division by zero"
     ]
    }
   ],
   "source": [
    "try:\n",
    "    num1=int(input(\"enter a number :\"))\n",
    "    num2=int(input(\"enter second number :\"))\n",
    "    res=num1/num2\n",
    "    print(res)\n",
    "    \n",
    "except ValueError:\n",
    "    print(\"invalid input\")"
   ]
  },
  {
   "cell_type": "code",
   "execution_count": 15,
   "id": "83539d34",
   "metadata": {},
   "outputs": [
    {
     "name": "stdout",
     "output_type": "stream",
     "text": [
      "could not convert input to integer\n"
     ]
    }
   ],
   "source": [
    "num_str=\"abc\"\n",
    "try:\n",
    "    num=int(num_str)\n",
    "    print(num)\n",
    "except (ValueError,TypeError):\n",
    "    print(\"could not convert input to integer\")"
   ]
  },
  {
   "cell_type": "markdown",
   "id": "b31b32cc",
   "metadata": {},
   "source": [
    "# Exception is use to handle all error\n",
    "\n",
    "# syntax \n",
    " except Exception:\n",
    "    #print message to be shown in case of error"
   ]
  },
  {
   "cell_type": "code",
   "execution_count": 16,
   "id": "d18d5842",
   "metadata": {},
   "outputs": [
    {
     "name": "stdout",
     "output_type": "stream",
     "text": [
      "could not convert input to integer\n"
     ]
    }
   ],
   "source": [
    "num_str=\"abc\"\n",
    "try:\n",
    "    num=int(num_str)\n",
    "    print(num)\n",
    "except Exception:\n",
    "    print(\"could not convert input to integer\")"
   ]
  },
  {
   "cell_type": "code",
   "execution_count": 17,
   "id": "b817bf9d",
   "metadata": {},
   "outputs": [
    {
     "name": "stdout",
     "output_type": "stream",
     "text": [
      "invalid literal for int() with base 10: 'abc'\n"
     ]
    }
   ],
   "source": [
    "num_str=\"abc\"\n",
    "try:\n",
    "    num=int(num_str)\n",
    "    print(num)\n",
    "except Exception as e:\n",
    "    print(e)"
   ]
  },
  {
   "cell_type": "code",
   "execution_count": 23,
   "id": "fd870697",
   "metadata": {},
   "outputs": [
    {
     "name": "stdout",
     "output_type": "stream",
     "text": [
      "enter a number :5\n",
      "enter second number :9\n",
      "0.5555555555555556\n",
      "result is  0.5555555555555556\n"
     ]
    }
   ],
   "source": [
    "try:\n",
    "    num1=int(input(\"enter a number :\"))\n",
    "    num2=int(input(\"enter second number :\"))\n",
    "    res=num1/num2\n",
    "    print(res)\n",
    "    \n",
    "except ValueError:\n",
    "    print(\"invalid input\")\n",
    "    \n",
    "except Exception:\n",
    "    print(\"could not convert input to integer\")\n",
    "    \n",
    "else:\n",
    "    print(\"result is \",res)"
   ]
  },
  {
   "cell_type": "code",
   "execution_count": 24,
   "id": "83844c77",
   "metadata": {},
   "outputs": [
    {
     "name": "stdout",
     "output_type": "stream",
     "text": [
      "enter a number :d\n",
      "invalid input\n"
     ]
    }
   ],
   "source": [
    "try:\n",
    "    num1=int(input(\"enter a number :\"))\n",
    "    num2=int(input(\"enter second number :\"))\n",
    "    res=num1/num2\n",
    "    print(res)\n",
    "    \n",
    "except ValueError:\n",
    "    print(\"invalid input\")\n",
    "    \n",
    "except Exception:\n",
    "    print(\"could not convert input to integer\")\n",
    "    \n",
    "else:\n",
    "    print(\"result is \",res)"
   ]
  },
  {
   "cell_type": "markdown",
   "id": "d36fccda",
   "metadata": {},
   "source": [
    "# finallt is always executed used as signature."
   ]
  },
  {
   "cell_type": "code",
   "execution_count": 26,
   "id": "0930db61",
   "metadata": {},
   "outputs": [
    {
     "name": "stdout",
     "output_type": "stream",
     "text": [
      "enter a number :2\n",
      "enter second number :b\n",
      "invalid input\n",
      "thank you\n"
     ]
    }
   ],
   "source": [
    "try:\n",
    "    num1=int(input(\"enter a number :\"))\n",
    "    num2=int(input(\"enter second number :\"))\n",
    "    res=num1/num2\n",
    "    print(res)\n",
    "    \n",
    "except ValueError:\n",
    "    print(\"invalid input\")\n",
    "    \n",
    "except Exception:\n",
    "    print(\"could not convert input to integer\")\n",
    "    \n",
    "else:\n",
    "    print(\"result is \",res)\n",
    "    \n",
    "finally:                        #it is always executed\n",
    "    print(\"thank you\")"
   ]
  },
  {
   "cell_type": "markdown",
   "id": "a28b0a42",
   "metadata": {},
   "source": [
    "# syntax\n",
    "\n",
    "# raise exceptiontype(\"exception message\")"
   ]
  },
  {
   "cell_type": "code",
   "execution_count": 29,
   "id": "46efa056",
   "metadata": {},
   "outputs": [
    {
     "ename": "ValueError",
     "evalue": " x should  not be greater than 5",
     "output_type": "error",
     "traceback": [
      "\u001b[1;31m---------------------------------------------------------------------------\u001b[0m",
      "\u001b[1;31mValueError\u001b[0m                                Traceback (most recent call last)",
      "Cell \u001b[1;32mIn[29], line 3\u001b[0m\n\u001b[0;32m      1\u001b[0m x\u001b[38;5;241m=\u001b[39m\u001b[38;5;241m50\u001b[39m\n\u001b[0;32m      2\u001b[0m \u001b[38;5;28;01mif\u001b[39;00m x\u001b[38;5;241m>\u001b[39m\u001b[38;5;241m5\u001b[39m:\n\u001b[1;32m----> 3\u001b[0m     \u001b[38;5;28;01mraise\u001b[39;00m \u001b[38;5;167;01mValueError\u001b[39;00m(\u001b[38;5;124m\"\u001b[39m\u001b[38;5;124m x should  not be greater than 5\u001b[39m\u001b[38;5;124m\"\u001b[39m)\n",
      "\u001b[1;31mValueError\u001b[0m:  x should  not be greater than 5"
     ]
    }
   ],
   "source": [
    "x=50\n",
    "if x>5:\n",
    "    raise ValueError(\" x should  not be greater than 5\")"
   ]
  },
  {
   "cell_type": "code",
   "execution_count": 30,
   "id": "3dfda7f1",
   "metadata": {},
   "outputs": [
    {
     "ename": "ValueError",
     "evalue": "",
     "output_type": "error",
     "traceback": [
      "\u001b[1;31m---------------------------------------------------------------------------\u001b[0m",
      "\u001b[1;31mValueError\u001b[0m                                Traceback (most recent call last)",
      "Cell \u001b[1;32mIn[30], line 1\u001b[0m\n\u001b[1;32m----> 1\u001b[0m \u001b[38;5;28;01mraise\u001b[39;00m \u001b[38;5;167;01mValueError\u001b[39;00m\n",
      "\u001b[1;31mValueError\u001b[0m: "
     ]
    }
   ],
   "source": [
    "raise ValueError"
   ]
  },
  {
   "cell_type": "code",
   "execution_count": 31,
   "id": "348d41fa",
   "metadata": {},
   "outputs": [],
   "source": [
    "class MyException(Exception):\n",
    "    pass"
   ]
  },
  {
   "cell_type": "code",
   "execution_count": 33,
   "id": "ced21f38",
   "metadata": {},
   "outputs": [
    {
     "ename": "MyException",
     "evalue": " this is my costum exception",
     "output_type": "error",
     "traceback": [
      "\u001b[1;31m---------------------------------------------------------------------------\u001b[0m",
      "\u001b[1;31mMyException\u001b[0m                               Traceback (most recent call last)",
      "Cell \u001b[1;32mIn[33], line 1\u001b[0m\n\u001b[1;32m----> 1\u001b[0m \u001b[38;5;28;01mraise\u001b[39;00m MyException(\u001b[38;5;124m\"\u001b[39m\u001b[38;5;124m this is my costum exception\u001b[39m\u001b[38;5;124m\"\u001b[39m)\n",
      "\u001b[1;31mMyException\u001b[0m:  this is my costum exception"
     ]
    }
   ],
   "source": [
    "raise MyException(\" this is my costum exception\")"
   ]
  },
  {
   "cell_type": "code",
   "execution_count": 34,
   "id": "60e3731e",
   "metadata": {},
   "outputs": [],
   "source": [
    "class MyException(Exception):\n",
    "    def __init__(self):\n",
    "        raise MyException(\" this is my costum exception\")\n",
    "        \n",
    "        "
   ]
  },
  {
   "cell_type": "code",
   "execution_count": null,
   "id": "2ae84798",
   "metadata": {},
   "outputs": [],
   "source": []
  },
  {
   "cell_type": "code",
   "execution_count": null,
   "id": "f02c8c27",
   "metadata": {},
   "outputs": [],
   "source": []
  }
 ],
 "metadata": {
  "kernelspec": {
   "display_name": "Python 3 (ipykernel)",
   "language": "python",
   "name": "python3"
  },
  "language_info": {
   "codemirror_mode": {
    "name": "ipython",
    "version": 3
   },
   "file_extension": ".py",
   "mimetype": "text/x-python",
   "name": "python",
   "nbconvert_exporter": "python",
   "pygments_lexer": "ipython3",
   "version": "3.11.3"
  }
 },
 "nbformat": 4,
 "nbformat_minor": 5
}
