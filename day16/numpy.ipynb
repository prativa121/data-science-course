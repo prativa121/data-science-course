{
 "cells": [
  {
   "cell_type": "code",
   "execution_count": 2,
   "id": "7bb6b63a",
   "metadata": {},
   "outputs": [],
   "source": [
    "import numpy as np"
   ]
  },
  {
   "cell_type": "markdown",
   "id": "1385b8f6",
   "metadata": {},
   "source": [
    "## crating numpy array with np.array()"
   ]
  },
  {
   "cell_type": "code",
   "execution_count": 5,
   "id": "46f900d4",
   "metadata": {},
   "outputs": [
    {
     "name": "stdout",
     "output_type": "stream",
     "text": [
      "<class 'list'>\n",
      "[1 2 3 4]\n",
      "<class 'numpy.ndarray'>\n"
     ]
    }
   ],
   "source": [
    "#creating numpy arrays\n",
    "list1=[1,2,3,4]\n",
    "print(type(list1))\n",
    "array1=np.array(list1)\n",
    "print(array1)\n",
    "print(type(array1))\n"
   ]
  },
  {
   "cell_type": "code",
   "execution_count": 9,
   "id": "9728c733",
   "metadata": {},
   "outputs": [
    {
     "name": "stdout",
     "output_type": "stream",
     "text": [
      "<class 'list'>\n"
     ]
    }
   ],
   "source": [
    "list2=[[1,2],[3,4]]\n",
    "print(type(list2))"
   ]
  },
  {
   "cell_type": "code",
   "execution_count": 7,
   "id": "5b6eee46",
   "metadata": {},
   "outputs": [],
   "source": [
    "array2=np.array(list2)"
   ]
  },
  {
   "cell_type": "code",
   "execution_count": 10,
   "id": "2ec65ec0",
   "metadata": {},
   "outputs": [
    {
     "name": "stdout",
     "output_type": "stream",
     "text": [
      "[[1 2]\n",
      " [3 4]]\n",
      "<class 'numpy.ndarray'>\n"
     ]
    }
   ],
   "source": [
    "print(array2)\n",
    "print(type(array2))"
   ]
  },
  {
   "cell_type": "markdown",
   "id": "0e72f46d",
   "metadata": {},
   "source": [
    "## np.zeros"
   ]
  },
  {
   "cell_type": "code",
   "execution_count": 11,
   "id": "10bac602",
   "metadata": {},
   "outputs": [
    {
     "data": {
      "text/plain": [
       "array([0., 0., 0., 0., 0.])"
      ]
     },
     "execution_count": 11,
     "metadata": {},
     "output_type": "execute_result"
    }
   ],
   "source": [
    "np.zeros(5)"
   ]
  },
  {
   "cell_type": "code",
   "execution_count": 13,
   "id": "cf2a06d5",
   "metadata": {},
   "outputs": [
    {
     "data": {
      "text/plain": [
       "array([[0., 0., 0., 0., 0.],\n",
       "       [0., 0., 0., 0., 0.]])"
      ]
     },
     "execution_count": 13,
     "metadata": {},
     "output_type": "execute_result"
    }
   ],
   "source": [
    "np.zeros((2,5))"
   ]
  },
  {
   "cell_type": "code",
   "execution_count": 14,
   "id": "94acc734",
   "metadata": {},
   "outputs": [
    {
     "data": {
      "text/plain": [
       "array([[0., 0., 0., 0., 0.],\n",
       "       [0., 0., 0., 0., 0.],\n",
       "       [0., 0., 0., 0., 0.]])"
      ]
     },
     "execution_count": 14,
     "metadata": {},
     "output_type": "execute_result"
    }
   ],
   "source": [
    "np.zeros((3,5))"
   ]
  },
  {
   "cell_type": "markdown",
   "id": "d656a458",
   "metadata": {},
   "source": [
    "## np.ones"
   ]
  },
  {
   "cell_type": "code",
   "execution_count": 22,
   "id": "b8354df0",
   "metadata": {},
   "outputs": [
    {
     "name": "stdout",
     "output_type": "stream",
     "text": [
      "[1. 1. 1. 1. 1.]\n"
     ]
    }
   ],
   "source": [
    "print(np.ones(5))"
   ]
  },
  {
   "cell_type": "code",
   "execution_count": 26,
   "id": "9c205894",
   "metadata": {},
   "outputs": [
    {
     "name": "stdout",
     "output_type": "stream",
     "text": [
      "[[[1. 1. 1.]\n",
      "  [1. 1. 1.]\n",
      "  [1. 1. 1.]\n",
      "  [1. 1. 1.]]\n",
      "\n",
      " [[1. 1. 1.]\n",
      "  [1. 1. 1.]\n",
      "  [1. 1. 1.]\n",
      "  [1. 1. 1.]]\n",
      "\n",
      " [[1. 1. 1.]\n",
      "  [1. 1. 1.]\n",
      "  [1. 1. 1.]\n",
      "  [1. 1. 1.]]]\n"
     ]
    }
   ],
   "source": [
    "print(np.ones((3,4,3)))"
   ]
  },
  {
   "cell_type": "markdown",
   "id": "888f0954",
   "metadata": {},
   "source": [
    "## np.full()"
   ]
  },
  {
   "cell_type": "code",
   "execution_count": 29,
   "id": "6bde9856",
   "metadata": {},
   "outputs": [
    {
     "name": "stdout",
     "output_type": "stream",
     "text": [
      "[2 2 2 2 2]\n"
     ]
    }
   ],
   "source": [
    "print(np.full(5,2))"
   ]
  },
  {
   "cell_type": "code",
   "execution_count": 30,
   "id": "bbdf84bf",
   "metadata": {},
   "outputs": [
    {
     "name": "stdout",
     "output_type": "stream",
     "text": [
      "[3 3]\n"
     ]
    }
   ],
   "source": [
    "print(np.full(2,3))"
   ]
  },
  {
   "cell_type": "code",
   "execution_count": 33,
   "id": "5abe8029",
   "metadata": {},
   "outputs": [
    {
     "name": "stdout",
     "output_type": "stream",
     "text": [
      "[[-2 -2 -2]\n",
      " [-2 -2 -2]]\n"
     ]
    }
   ],
   "source": [
    "print(np.full((2,3),-2))"
   ]
  },
  {
   "cell_type": "markdown",
   "id": "8587cf10",
   "metadata": {},
   "source": [
    "## np.arange()"
   ]
  },
  {
   "cell_type": "code",
   "execution_count": 41,
   "id": "b177ae7f",
   "metadata": {},
   "outputs": [
    {
     "name": "stdout",
     "output_type": "stream",
     "text": [
      "[2 4 6]\n"
     ]
    }
   ],
   "source": [
    "print(np.arange(2,8,2))"
   ]
  },
  {
   "cell_type": "code",
   "execution_count": 42,
   "id": "3f466074",
   "metadata": {},
   "outputs": [
    {
     "name": "stdout",
     "output_type": "stream",
     "text": [
      "[0 1 2 3 4]\n"
     ]
    }
   ],
   "source": [
    "print(np.arange(5))"
   ]
  },
  {
   "cell_type": "code",
   "execution_count": 43,
   "id": "f11db5a5",
   "metadata": {},
   "outputs": [
    {
     "name": "stdout",
     "output_type": "stream",
     "text": [
      "[2 3 4 5 6 7 8 9]\n"
     ]
    }
   ],
   "source": [
    "print(np.arange(2,10))"
   ]
  },
  {
   "cell_type": "markdown",
   "id": "5719b85e",
   "metadata": {},
   "source": [
    "## np.linspace()"
   ]
  },
  {
   "cell_type": "code",
   "execution_count": 44,
   "id": "14fcc3be",
   "metadata": {},
   "outputs": [
    {
     "data": {
      "text/plain": [
       "array([-2.  , -0.75,  0.5 ,  1.75,  3.  ])"
      ]
     },
     "execution_count": 44,
     "metadata": {},
     "output_type": "execute_result"
    }
   ],
   "source": [
    "#np.linspace(start,stop,num of element in between)\n",
    "\n",
    "np.linspace(-2,3,num=5)"
   ]
  },
  {
   "cell_type": "code",
   "execution_count": 47,
   "id": "fe1102b7",
   "metadata": {},
   "outputs": [
    {
     "name": "stdout",
     "output_type": "stream",
     "text": [
      "[ 1.  4.  7. 10.]\n"
     ]
    }
   ],
   "source": [
    "print(np.linspace(1,10,4))"
   ]
  },
  {
   "cell_type": "code",
   "execution_count": 51,
   "id": "f4f4201b",
   "metadata": {},
   "outputs": [
    {
     "data": {
      "text/plain": [
       "array([[ 1.,  2.],\n",
       "       [ 2.,  4.],\n",
       "       [ 3.,  6.],\n",
       "       [ 4.,  8.],\n",
       "       [ 5., 10.]])"
      ]
     },
     "execution_count": 51,
     "metadata": {},
     "output_type": "execute_result"
    }
   ],
   "source": [
    "np.linspace((1,2),(5,10),5)"
   ]
  },
  {
   "cell_type": "code",
   "execution_count": 52,
   "id": "cd3ee067",
   "metadata": {},
   "outputs": [
    {
     "data": {
      "text/plain": [
       "array([[ 1.,  2.,  3.],\n",
       "       [ 3.,  6.,  9.],\n",
       "       [ 5., 10., 15.]])"
      ]
     },
     "execution_count": 52,
     "metadata": {},
     "output_type": "execute_result"
    }
   ],
   "source": [
    "np.linspace((1,2,3),(5,10,15),3)"
   ]
  },
  {
   "cell_type": "markdown",
   "id": "5347f99e",
   "metadata": {},
   "source": [
    "## np.diag()"
   ]
  },
  {
   "cell_type": "code",
   "execution_count": 53,
   "id": "38602475",
   "metadata": {},
   "outputs": [
    {
     "data": {
      "text/plain": [
       "array([[2, 0, 0],\n",
       "       [0, 3, 0],\n",
       "       [0, 0, 4]])"
      ]
     },
     "execution_count": 53,
     "metadata": {},
     "output_type": "execute_result"
    }
   ],
   "source": [
    "np.diag([2,3,4])"
   ]
  },
  {
   "cell_type": "code",
   "execution_count": 54,
   "id": "168257fe",
   "metadata": {},
   "outputs": [
    {
     "data": {
      "text/plain": [
       "array([[0, 0, 2, 0, 0],\n",
       "       [0, 0, 0, 3, 0],\n",
       "       [0, 0, 0, 0, 4],\n",
       "       [0, 0, 0, 0, 0],\n",
       "       [0, 0, 0, 0, 0]])"
      ]
     },
     "execution_count": 54,
     "metadata": {},
     "output_type": "execute_result"
    }
   ],
   "source": [
    "np.diag([2,3,4],k=2)"
   ]
  },
  {
   "cell_type": "code",
   "execution_count": 55,
   "id": "9a128240",
   "metadata": {},
   "outputs": [
    {
     "data": {
      "text/plain": [
       "array([[0, 0, 0, 0],\n",
       "       [2, 0, 0, 0],\n",
       "       [0, 3, 0, 0],\n",
       "       [0, 0, 4, 0]])"
      ]
     },
     "execution_count": 55,
     "metadata": {},
     "output_type": "execute_result"
    }
   ],
   "source": [
    "np.diag([2,3,4],k=-1)"
   ]
  },
  {
   "cell_type": "code",
   "execution_count": 56,
   "id": "47b1c178",
   "metadata": {},
   "outputs": [
    {
     "data": {
      "text/plain": [
       "array([[0, 0, 0, 0, 0],\n",
       "       [0, 0, 0, 0, 0],\n",
       "       [2, 0, 0, 0, 0],\n",
       "       [0, 3, 0, 0, 0],\n",
       "       [0, 0, 4, 0, 0]])"
      ]
     },
     "execution_count": 56,
     "metadata": {},
     "output_type": "execute_result"
    }
   ],
   "source": [
    "np.diag([2,3,4],k=-2)"
   ]
  },
  {
   "cell_type": "markdown",
   "id": "7b1d9b57",
   "metadata": {},
   "source": [
    "## np.eye()"
   ]
  },
  {
   "cell_type": "code",
   "execution_count": 58,
   "id": "18762853",
   "metadata": {},
   "outputs": [
    {
     "data": {
      "text/plain": [
       "array([[1., 0., 0., 0., 0.],\n",
       "       [0., 1., 0., 0., 0.],\n",
       "       [0., 0., 1., 0., 0.],\n",
       "       [0., 0., 0., 1., 0.],\n",
       "       [0., 0., 0., 0., 1.]])"
      ]
     },
     "execution_count": 58,
     "metadata": {},
     "output_type": "execute_result"
    }
   ],
   "source": [
    "np.eye(5)"
   ]
  },
  {
   "cell_type": "code",
   "execution_count": 59,
   "id": "97b7c714",
   "metadata": {},
   "outputs": [
    {
     "data": {
      "text/plain": [
       "array([[0., 0., 0., 0., 0.],\n",
       "       [1., 0., 0., 0., 0.],\n",
       "       [0., 1., 0., 0., 0.],\n",
       "       [0., 0., 1., 0., 0.],\n",
       "       [0., 0., 0., 1., 0.]])"
      ]
     },
     "execution_count": 59,
     "metadata": {},
     "output_type": "execute_result"
    }
   ],
   "source": [
    "np.eye(5,k=-1)"
   ]
  },
  {
   "cell_type": "code",
   "execution_count": 60,
   "id": "4e6c159a",
   "metadata": {},
   "outputs": [
    {
     "data": {
      "text/plain": [
       "array([[0., 1., 0., 0., 0.],\n",
       "       [0., 0., 1., 0., 0.],\n",
       "       [0., 0., 0., 1., 0.],\n",
       "       [0., 0., 0., 0., 1.],\n",
       "       [0., 0., 0., 0., 0.]])"
      ]
     },
     "execution_count": 60,
     "metadata": {},
     "output_type": "execute_result"
    }
   ],
   "source": [
    "np.eye(5,k=1)"
   ]
  },
  {
   "cell_type": "markdown",
   "id": "98c3787e",
   "metadata": {},
   "source": [
    "## np.identity()"
   ]
  },
  {
   "cell_type": "code",
   "execution_count": 61,
   "id": "99b0d0f2",
   "metadata": {},
   "outputs": [
    {
     "data": {
      "text/plain": [
       "array([[1., 0., 0., 0., 0.],\n",
       "       [0., 1., 0., 0., 0.],\n",
       "       [0., 0., 1., 0., 0.],\n",
       "       [0., 0., 0., 1., 0.],\n",
       "       [0., 0., 0., 0., 1.]])"
      ]
     },
     "execution_count": 61,
     "metadata": {},
     "output_type": "execute_result"
    }
   ],
   "source": [
    "np.identity(5)"
   ]
  },
  {
   "cell_type": "markdown",
   "id": "296fe094",
   "metadata": {},
   "source": [
    "## np.random.rand"
   ]
  },
  {
   "cell_type": "code",
   "execution_count": 64,
   "id": "0c43c714",
   "metadata": {},
   "outputs": [
    {
     "data": {
      "text/plain": [
       "array([[0.35488301, 0.65852971, 0.63776452],\n",
       "       [0.48252866, 0.48299016, 0.64490877]])"
      ]
     },
     "execution_count": 64,
     "metadata": {},
     "output_type": "execute_result"
    }
   ],
   "source": [
    "np.random.rand(2,3)"
   ]
  },
  {
   "cell_type": "code",
   "execution_count": 68,
   "id": "c7304e44",
   "metadata": {},
   "outputs": [
    {
     "data": {
      "text/plain": [
       "array([0.49969287, 0.80696721, 0.16421473, 0.00764067])"
      ]
     },
     "execution_count": 68,
     "metadata": {},
     "output_type": "execute_result"
    }
   ],
   "source": [
    "np.random.rand(4)"
   ]
  },
  {
   "cell_type": "code",
   "execution_count": 81,
   "id": "b424a0d9",
   "metadata": {},
   "outputs": [
    {
     "data": {
      "text/plain": [
       "array([[52, 50],\n",
       "       [55,  2],\n",
       "       [71,  1]])"
      ]
     },
     "execution_count": 81,
     "metadata": {},
     "output_type": "execute_result"
    }
   ],
   "source": [
    "np.random.randint(80,size=(3,2))"
   ]
  },
  {
   "cell_type": "code",
   "execution_count": 82,
   "id": "8ac8481d",
   "metadata": {},
   "outputs": [
    {
     "data": {
      "text/plain": [
       "array([[ 4,  6],\n",
       "       [12, 19]])"
      ]
     },
     "execution_count": 82,
     "metadata": {},
     "output_type": "execute_result"
    }
   ],
   "source": [
    "np.random.randint(1,20,size=(2,2))"
   ]
  },
  {
   "cell_type": "markdown",
   "id": "e3144f6e",
   "metadata": {},
   "source": [
    "## indexing and slicing"
   ]
  },
  {
   "cell_type": "code",
   "execution_count": 83,
   "id": "7a6515e0",
   "metadata": {},
   "outputs": [],
   "source": [
    "list1=[1,2,3,4]\n"
   ]
  },
  {
   "cell_type": "markdown",
   "id": "159fd4b2",
   "metadata": {},
   "source": [
    "## single dimension"
   ]
  },
  {
   "cell_type": "code",
   "execution_count": 84,
   "id": "55dbfbfb",
   "metadata": {},
   "outputs": [
    {
     "data": {
      "text/plain": [
       "3"
      ]
     },
     "execution_count": 84,
     "metadata": {},
     "output_type": "execute_result"
    }
   ],
   "source": [
    "list1[2]"
   ]
  },
  {
   "cell_type": "code",
   "execution_count": 85,
   "id": "b93c1660",
   "metadata": {},
   "outputs": [],
   "source": [
    "np1=np.array(list1)"
   ]
  },
  {
   "cell_type": "code",
   "execution_count": 86,
   "id": "dbe58f56",
   "metadata": {},
   "outputs": [
    {
     "data": {
      "text/plain": [
       "2"
      ]
     },
     "execution_count": 86,
     "metadata": {},
     "output_type": "execute_result"
    }
   ],
   "source": [
    "np1[1]"
   ]
  },
  {
   "cell_type": "markdown",
   "id": "94d063d6",
   "metadata": {},
   "source": [
    "## multi dimension"
   ]
  },
  {
   "cell_type": "code",
   "execution_count": 91,
   "id": "1345a3ec",
   "metadata": {},
   "outputs": [],
   "source": [
    "list2=[[11,22,33,44],[1,2,3,4]]"
   ]
  },
  {
   "cell_type": "code",
   "execution_count": 99,
   "id": "f530f45b",
   "metadata": {},
   "outputs": [
    {
     "data": {
      "text/plain": [
       "4"
      ]
     },
     "execution_count": 99,
     "metadata": {},
     "output_type": "execute_result"
    }
   ],
   "source": [
    "list2[1][3]"
   ]
  },
  {
   "cell_type": "code",
   "execution_count": 94,
   "id": "84c15c6c",
   "metadata": {},
   "outputs": [
    {
     "name": "stdout",
     "output_type": "stream",
     "text": [
      "[[11 22 33 44]\n",
      " [ 1  2  3  4]]\n"
     ]
    }
   ],
   "source": [
    "np2=np.array(list2)\n",
    "print(np2)"
   ]
  },
  {
   "cell_type": "code",
   "execution_count": 93,
   "id": "61d208b4",
   "metadata": {},
   "outputs": [
    {
     "data": {
      "text/plain": [
       "33"
      ]
     },
     "execution_count": 93,
     "metadata": {},
     "output_type": "execute_result"
    }
   ],
   "source": [
    "np2[0][2]"
   ]
  },
  {
   "cell_type": "code",
   "execution_count": 96,
   "id": "3470d38a",
   "metadata": {},
   "outputs": [
    {
     "data": {
      "text/plain": [
       "33"
      ]
     },
     "execution_count": 96,
     "metadata": {},
     "output_type": "execute_result"
    }
   ],
   "source": [
    "np2[0,2]"
   ]
  },
  {
   "cell_type": "code",
   "execution_count": null,
   "id": "ecc5eb17",
   "metadata": {},
   "outputs": [],
   "source": []
  }
 ],
 "metadata": {
  "kernelspec": {
   "display_name": "Python 3 (ipykernel)",
   "language": "python",
   "name": "python3"
  },
  "language_info": {
   "codemirror_mode": {
    "name": "ipython",
    "version": 3
   },
   "file_extension": ".py",
   "mimetype": "text/x-python",
   "name": "python",
   "nbconvert_exporter": "python",
   "pygments_lexer": "ipython3",
   "version": "3.11.3"
  }
 },
 "nbformat": 4,
 "nbformat_minor": 5
}
