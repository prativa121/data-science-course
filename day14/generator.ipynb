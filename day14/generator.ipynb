{
 "cells": [
  {
   "cell_type": "code",
   "execution_count": 2,
   "id": "35db9e1f",
   "metadata": {},
   "outputs": [],
   "source": [
    "def number_generator(start,end):\n",
    "    for num in range(start,end+1):\n",
    "        yield num\n",
    "        \n",
    "        "
   ]
  },
  {
   "cell_type": "markdown",
   "id": "22f54614",
   "metadata": {},
   "source": [
    "2.create a object  of generator using generator function\n",
    "\n",
    "yield store the number generate by or function.\n",
    "we can fetch number by using next."
   ]
  },
  {
   "cell_type": "code",
   "execution_count": 3,
   "id": "072a13e4",
   "metadata": {},
   "outputs": [],
   "source": [
    "my_generator=number_generator(1,5)"
   ]
  },
  {
   "cell_type": "code",
   "execution_count": 18,
   "id": "1f6b73da",
   "metadata": {},
   "outputs": [
    {
     "name": "stdout",
     "output_type": "stream",
     "text": [
      "<class 'generator'>\n"
     ]
    }
   ],
   "source": [
    "print(type(my_generator))"
   ]
  },
  {
   "cell_type": "code",
   "execution_count": 4,
   "id": "3b77c4c8",
   "metadata": {},
   "outputs": [
    {
     "name": "stdout",
     "output_type": "stream",
     "text": [
      "<generator object number_generator at 0x000002608730D6C0>\n"
     ]
    }
   ],
   "source": [
    "print(my_generator)"
   ]
  },
  {
   "cell_type": "code",
   "execution_count": 10,
   "id": "d439cf42",
   "metadata": {},
   "outputs": [],
   "source": [
    "def abc():\n",
    "    return \"this is string\""
   ]
  },
  {
   "cell_type": "code",
   "execution_count": 11,
   "id": "db1d3730",
   "metadata": {},
   "outputs": [
    {
     "name": "stdout",
     "output_type": "stream",
     "text": [
      "<class 'str'>\n"
     ]
    }
   ],
   "source": [
    "c=abc()\n",
    "print(type(c))"
   ]
  },
  {
   "cell_type": "markdown",
   "id": "83490e39",
   "metadata": {},
   "source": [
    "3.use the generator object to generte value\n",
    "\n",
    "raise stopiteration message to know that memory is empty."
   ]
  },
  {
   "cell_type": "code",
   "execution_count": 14,
   "id": "25c6fc43",
   "metadata": {},
   "outputs": [
    {
     "name": "stdout",
     "output_type": "stream",
     "text": [
      "2\n",
      "3\n"
     ]
    }
   ],
   "source": [
    "print(next(my_generator))\n",
    "print(next(my_generator))"
   ]
  },
  {
   "cell_type": "code",
   "execution_count": 15,
   "id": "72e38648",
   "metadata": {},
   "outputs": [
    {
     "name": "stdout",
     "output_type": "stream",
     "text": [
      "4\n"
     ]
    }
   ],
   "source": [
    "print(next(my_generator))"
   ]
  },
  {
   "cell_type": "code",
   "execution_count": 16,
   "id": "4bca431a",
   "metadata": {},
   "outputs": [
    {
     "name": "stdout",
     "output_type": "stream",
     "text": [
      "5\n"
     ]
    }
   ],
   "source": [
    "print(next(my_generator))"
   ]
  },
  {
   "cell_type": "code",
   "execution_count": 17,
   "id": "481c1e78",
   "metadata": {},
   "outputs": [
    {
     "ename": "StopIteration",
     "evalue": "",
     "output_type": "error",
     "traceback": [
      "\u001b[1;31m---------------------------------------------------------------------------\u001b[0m",
      "\u001b[1;31mStopIteration\u001b[0m                             Traceback (most recent call last)",
      "Cell \u001b[1;32mIn[17], line 1\u001b[0m\n\u001b[1;32m----> 1\u001b[0m \u001b[38;5;28mprint\u001b[39m(\u001b[38;5;28;43mnext\u001b[39;49m\u001b[43m(\u001b[49m\u001b[43mmy_generator\u001b[49m\u001b[43m)\u001b[49m)\n",
      "\u001b[1;31mStopIteration\u001b[0m: "
     ]
    }
   ],
   "source": [
    "print(next(my_generator))"
   ]
  },
  {
   "cell_type": "code",
   "execution_count": 21,
   "id": "08a2fe26",
   "metadata": {},
   "outputs": [
    {
     "name": "stdout",
     "output_type": "stream",
     "text": [
      "1\n",
      "2\n",
      "3\n",
      "4\n",
      "5\n",
      "6\n",
      "7\n",
      "8\n",
      "9\n",
      "10\n"
     ]
    }
   ],
   "source": [
    "my_generator=number_generator(1,10)\n",
    "for num in my_generator:\n",
    "    print (num)"
   ]
  },
  {
   "cell_type": "code",
   "execution_count": 22,
   "id": "bd2ab910",
   "metadata": {},
   "outputs": [],
   "source": [
    "for num in my_generator:\n",
    "    print(num)"
   ]
  },
  {
   "cell_type": "code",
   "execution_count": null,
   "id": "4f0f87a5",
   "metadata": {},
   "outputs": [],
   "source": []
  }
 ],
 "metadata": {
  "kernelspec": {
   "display_name": "Python 3 (ipykernel)",
   "language": "python",
   "name": "python3"
  },
  "language_info": {
   "codemirror_mode": {
    "name": "ipython",
    "version": 3
   },
   "file_extension": ".py",
   "mimetype": "text/x-python",
   "name": "python",
   "nbconvert_exporter": "python",
   "pygments_lexer": "ipython3",
   "version": "3.11.3"
  }
 },
 "nbformat": 4,
 "nbformat_minor": 5
}
