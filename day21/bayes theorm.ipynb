{
 "cells": [
  {
   "cell_type": "code",
   "execution_count": 1,
   "id": "8ed0c445",
   "metadata": {},
   "outputs": [
    {
     "name": "stdout",
     "output_type": "stream",
     "text": [
      "pa/b:  0.05714285714285714\n"
     ]
    }
   ],
   "source": [
    "# probability of the ball being one of the first two ball drawn \n",
    "p_a=(2/8*1/7)+(6/8*2/7)\n",
    "\n",
    "# probability of ball being red\n",
    "p_b=5/8\n",
    "\n",
    "#probability of both ball a and b being drawn\n",
    "p_ab=1/28\n",
    "\n",
    "#condition probability of a given b\n",
    "p_a_given_b=p_ab/p_b\n",
    "\n",
    "print(\"pa/b: \",p_a_given_b)"
   ]
  },
  {
   "cell_type": "code",
   "execution_count": 3,
   "id": "d2bf6585",
   "metadata": {},
   "outputs": [
    {
     "name": "stdout",
     "output_type": "stream",
     "text": [
      "probability of having the diseases given a positive test result : 0.3242320819112628\n"
     ]
    }
   ],
   "source": [
    "#bayes theorem\n",
    "#prior probability of having diseases\n",
    "p_a=0.01\n",
    "\n",
    "# sensitivity of th test\n",
    "p_b_given_a=0.95\n",
    "\n",
    "#false positive rate of the test\n",
    "p_b_given_not_a=0.02\n",
    "\n",
    "#probability of a positive test result\n",
    "p_b=(p_b_given_a*p_a)+(p_b_given_not_a*(1-p_a))\n",
    "\n",
    "#probability of having the diseases given a positive test result\n",
    "p_a_given_b=(p_b_given_a*p_a)/p_b\n",
    "print(\"probability of having the diseases given a positive test result :\",p_a_given_b)"
   ]
  },
  {
   "cell_type": "code",
   "execution_count": null,
   "id": "53a7d236",
   "metadata": {},
   "outputs": [],
   "source": []
  }
 ],
 "metadata": {
  "kernelspec": {
   "display_name": "Python 3 (ipykernel)",
   "language": "python",
   "name": "python3"
  },
  "language_info": {
   "codemirror_mode": {
    "name": "ipython",
    "version": 3
   },
   "file_extension": ".py",
   "mimetype": "text/x-python",
   "name": "python",
   "nbconvert_exporter": "python",
   "pygments_lexer": "ipython3",
   "version": "3.11.3"
  }
 },
 "nbformat": 4,
 "nbformat_minor": 5
}
