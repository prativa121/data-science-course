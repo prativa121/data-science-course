{
 "cells": [
  {
   "cell_type": "code",
   "execution_count": 1,
   "id": "8b772b90",
   "metadata": {},
   "outputs": [],
   "source": [
    "import random "
   ]
  },
  {
   "cell_type": "code",
   "execution_count": 11,
   "id": "9f911d31",
   "metadata": {},
   "outputs": [
    {
     "name": "stdout",
     "output_type": "stream",
     "text": [
      "coin flip result:  ['tail']\n",
      "dice roll result: 5\n"
     ]
    }
   ],
   "source": [
    "# elementary event\n",
    "coin_flip=random.choices(['head','tail'])\n",
    "print(\"coin flip result: \" ,coin_flip)\n",
    "dice_roll=random.randint(1,6)\n",
    "print(\"dice roll result:\",dice_roll)"
   ]
  },
  {
   "cell_type": "code",
   "execution_count": 19,
   "id": "857ef935",
   "metadata": {},
   "outputs": [
    {
     "name": "stdout",
     "output_type": "stream",
     "text": [
      "dice roll sum result:  7\n",
      "cards drawn: ['8 of hearts', '6 of hearts']\n"
     ]
    }
   ],
   "source": [
    "# compound event\n",
    "dice_sum=random.randint(1,6)+random.randint(1,6)\n",
    "print(\"dice roll sum result: \",dice_sum)\n",
    "cards=['2 of hearts','3 of hearts','4 of hearts','6 of hearts','7 of hearts','8 of hearts',\n",
    "        '9 of hearts','10 of hearts','jack of hearts','queen of hearts','king of hearts','ace of hearts'\n",
    "       ]\n",
    "card_drawn=random.sample(cards,2)\n",
    "\n",
    "print('cards drawn:',card_drawn)\n"
   ]
  },
  {
   "cell_type": "code",
   "execution_count": 13,
   "id": "e474f3a4",
   "metadata": {},
   "outputs": [
    {
     "name": "stdout",
     "output_type": "stream",
     "text": [
      "even number of rolled\n"
     ]
    }
   ],
   "source": [
    "# mutually exclusive\n",
    "dice_number=random.randint(1,6)\n",
    "if dice_number % 2==0:\n",
    "    print('even number of rolled')\n",
    "else:\n",
    "    print(\"odd number of rolled\")"
   ]
  },
  {
   "cell_type": "code",
   "execution_count": 14,
   "id": "29a26ad5",
   "metadata": {},
   "outputs": [
    {
     "name": "stdout",
     "output_type": "stream",
     "text": [
      "coin 1 result: tail\n",
      "coin 2 result : tail\n"
     ]
    }
   ],
   "source": [
    "# independent event\n",
    "coinflip1=random.choice(['head','tail'])\n",
    "coinflip2=random.choice(['head','tail'])\n",
    "print('coin 1 result:',coinflip1)\n",
    "print(\"coin 2 result :\",coinflip2)"
   ]
  },
  {
   "cell_type": "code",
   "execution_count": 25,
   "id": "1704e22d",
   "metadata": {},
   "outputs": [
    {
     "name": "stdout",
     "output_type": "stream",
     "text": [
      "selected ball is red and urn a\n",
      "condition probability : 0.6\n"
     ]
    }
   ],
   "source": [
    "## condition probability\n",
    "urn_a=['red','red','red','blue','blue']\n",
    "urn_b=['red','blue','blue','blue','blue']\n",
    "\n",
    "selected_urn=random.choice([urn_a ,urn_b])\n",
    "\n",
    "selected_ball=random.choice(selected_urn)\n",
    "\n",
    "if selected_ball=='red' and selected_urn==urn_a:\n",
    "    print('selected ball is red and urn a')\n",
    "    conditional_prob=urn_a.count('red')/len(urn_a)\n",
    "    print(\"condition probability :\",conditional_prob)\n",
    "    \n",
    "else:\n",
    "    print(\"selected ball is not red and urn a was not selected\")\n"
   ]
  },
  {
   "cell_type": "code",
   "execution_count": null,
   "id": "b03bd557",
   "metadata": {},
   "outputs": [],
   "source": [
    "\n"
   ]
  },
  {
   "cell_type": "code",
   "execution_count": 32,
   "id": "56f45f6e",
   "metadata": {},
   "outputs": [],
   "source": [
    "from math import sin\n",
    "def f(x):\n",
    "     return (3*x**2 + x) * sin(x)\n"
   ]
  },
  {
   "cell_type": "code",
   "execution_count": null,
   "id": "5917072f",
   "metadata": {},
   "outputs": [],
   "source": []
  },
  {
   "cell_type": "code",
   "execution_count": null,
   "id": "6f8aac6b",
   "metadata": {},
   "outputs": [],
   "source": []
  },
  {
   "cell_type": "code",
   "execution_count": null,
   "id": "0ae53bfa",
   "metadata": {},
   "outputs": [],
   "source": []
  },
  {
   "cell_type": "code",
   "execution_count": null,
   "id": "69cdd204",
   "metadata": {},
   "outputs": [],
   "source": []
  },
  {
   "cell_type": "code",
   "execution_count": null,
   "id": "c3f2df00",
   "metadata": {},
   "outputs": [],
   "source": []
  },
  {
   "cell_type": "code",
   "execution_count": null,
   "id": "0b915a39",
   "metadata": {},
   "outputs": [],
   "source": []
  },
  {
   "cell_type": "code",
   "execution_count": null,
   "id": "4fb5a822",
   "metadata": {},
   "outputs": [],
   "source": []
  },
  {
   "cell_type": "code",
   "execution_count": null,
   "id": "8315c1c3",
   "metadata": {},
   "outputs": [],
   "source": []
  }
 ],
 "metadata": {
  "kernelspec": {
   "display_name": "Python 3 (ipykernel)",
   "language": "python",
   "name": "python3"
  },
  "language_info": {
   "codemirror_mode": {
    "name": "ipython",
    "version": 3
   },
   "file_extension": ".py",
   "mimetype": "text/x-python",
   "name": "python",
   "nbconvert_exporter": "python",
   "pygments_lexer": "ipython3",
   "version": "3.11.3"
  }
 },
 "nbformat": 4,
 "nbformat_minor": 5
}
