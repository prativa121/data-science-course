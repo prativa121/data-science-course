{
 "cells": [
  {
   "cell_type": "markdown",
   "id": "4bfdea7f",
   "metadata": {},
   "source": [
    "#numeric types\n",
    "1.integer(int)\n",
    "  example:real numbers\n",
    "2.float(floa)\n",
    "3.complex(complex)\n"
   ]
  },
  {
   "cell_type": "markdown",
   "id": "cbc78f64",
   "metadata": {},
   "source": [
    "INTEGER"
   ]
  },
  {
   "cell_type": "code",
   "execution_count": 2,
   "id": "1d36632b",
   "metadata": {},
   "outputs": [],
   "source": [
    "a=123"
   ]
  },
  {
   "cell_type": "code",
   "execution_count": 8,
   "id": "b5c769c3",
   "metadata": {},
   "outputs": [
    {
     "data": {
      "text/plain": [
       "int"
      ]
     },
     "execution_count": 8,
     "metadata": {},
     "output_type": "execute_result"
    }
   ],
   "source": [
    "type(a)"
   ]
  },
  {
   "cell_type": "markdown",
   "id": "9879ff4f",
   "metadata": {},
   "source": [
    "FLOAT"
   ]
  },
  {
   "cell_type": "code",
   "execution_count": 5,
   "id": "cefd9b07",
   "metadata": {},
   "outputs": [
    {
     "data": {
      "text/plain": [
       "float"
      ]
     },
     "execution_count": 5,
     "metadata": {},
     "output_type": "execute_result"
    }
   ],
   "source": [
    "b=1.23\n",
    "type(b)"
   ]
  },
  {
   "cell_type": "markdown",
   "id": "3b926693",
   "metadata": {},
   "source": [
    "COMPLEX"
   ]
  },
  {
   "cell_type": "code",
   "execution_count": 7,
   "id": "6a04e4e2",
   "metadata": {},
   "outputs": [
    {
     "data": {
      "text/plain": [
       "complex"
      ]
     },
     "execution_count": 7,
     "metadata": {},
     "output_type": "execute_result"
    }
   ],
   "source": [
    "c=1+2j\n",
    "d=complex(1,2)\n",
    "type(c)\n",
    "type(d)"
   ]
  },
  {
   "cell_type": "markdown",
   "id": "73aa7567",
   "metadata": {},
   "source": [
    "TYPE CONVERSION"
   ]
  },
  {
   "cell_type": "code",
   "execution_count": 9,
   "id": "3e532272",
   "metadata": {},
   "outputs": [],
   "source": [
    "a=123\n",
    "b=2.33\n"
   ]
  },
  {
   "cell_type": "code",
   "execution_count": 11,
   "id": "fac99a36",
   "metadata": {},
   "outputs": [
    {
     "data": {
      "text/plain": [
       "float"
      ]
     },
     "execution_count": 11,
     "metadata": {},
     "output_type": "execute_result"
    }
   ],
   "source": [
    "\n",
    "type(b)"
   ]
  },
  {
   "cell_type": "code",
   "execution_count": 12,
   "id": "1cb2a476",
   "metadata": {},
   "outputs": [
    {
     "data": {
      "text/plain": [
       "int"
      ]
     },
     "execution_count": 12,
     "metadata": {},
     "output_type": "execute_result"
    }
   ],
   "source": [
    "type(a)"
   ]
  },
  {
   "cell_type": "code",
   "execution_count": 13,
   "id": "269efa7e",
   "metadata": {},
   "outputs": [],
   "source": [
    "a=float(a)\n",
    "b=int(b)"
   ]
  },
  {
   "cell_type": "code",
   "execution_count": 14,
   "id": "246e562d",
   "metadata": {},
   "outputs": [
    {
     "data": {
      "text/plain": [
       "float"
      ]
     },
     "execution_count": 14,
     "metadata": {},
     "output_type": "execute_result"
    }
   ],
   "source": [
    "type(a)"
   ]
  },
  {
   "cell_type": "code",
   "execution_count": 15,
   "id": "f84dc992",
   "metadata": {},
   "outputs": [
    {
     "data": {
      "text/plain": [
       "float"
      ]
     },
     "execution_count": 15,
     "metadata": {},
     "output_type": "execute_result"
    }
   ],
   "source": [
    "type(a)"
   ]
  },
  {
   "cell_type": "code",
   "execution_count": 16,
   "id": "60e46af4",
   "metadata": {},
   "outputs": [
    {
     "data": {
      "text/plain": [
       "int"
      ]
     },
     "execution_count": 16,
     "metadata": {},
     "output_type": "execute_result"
    }
   ],
   "source": [
    "type(b)"
   ]
  },
  {
   "cell_type": "code",
   "execution_count": 17,
   "id": "6d32e7d6",
   "metadata": {},
   "outputs": [
    {
     "data": {
      "text/plain": [
       "2"
      ]
     },
     "execution_count": 17,
     "metadata": {},
     "output_type": "execute_result"
    }
   ],
   "source": [
    "b"
   ]
  },
  {
   "cell_type": "code",
   "execution_count": 18,
   "id": "c1786e94",
   "metadata": {},
   "outputs": [
    {
     "data": {
      "text/plain": [
       "123.0"
      ]
     },
     "execution_count": 18,
     "metadata": {},
     "output_type": "execute_result"
    }
   ],
   "source": [
    "a"
   ]
  },
  {
   "cell_type": "code",
   "execution_count": 19,
   "id": "da480e1e",
   "metadata": {},
   "outputs": [],
   "source": [
    "a=100\n",
    "b=80\n"
   ]
  },
  {
   "cell_type": "code",
   "execution_count": 20,
   "id": "df0bf3b3",
   "metadata": {},
   "outputs": [
    {
     "data": {
      "text/plain": [
       "180"
      ]
     },
     "execution_count": 20,
     "metadata": {},
     "output_type": "execute_result"
    }
   ],
   "source": [
    "#add\n",
    "a+b"
   ]
  },
  {
   "cell_type": "code",
   "execution_count": 21,
   "id": "003b3f8e",
   "metadata": {},
   "outputs": [
    {
     "data": {
      "text/plain": [
       "20"
      ]
     },
     "execution_count": 21,
     "metadata": {},
     "output_type": "execute_result"
    }
   ],
   "source": [
    "#sub\n",
    "a-b"
   ]
  },
  {
   "cell_type": "code",
   "execution_count": 22,
   "id": "294bd43d",
   "metadata": {},
   "outputs": [
    {
     "data": {
      "text/plain": [
       "8000"
      ]
     },
     "execution_count": 22,
     "metadata": {},
     "output_type": "execute_result"
    }
   ],
   "source": [
    "#mul\n",
    "a*b"
   ]
  },
  {
   "cell_type": "code",
   "execution_count": 23,
   "id": "865a1549",
   "metadata": {},
   "outputs": [
    {
     "data": {
      "text/plain": [
       "10000000000000000000000000000000000000000000000000000000000000000000000000000000000000000000000000000000000000000000000000000000000000000000000000000000000000000"
      ]
     },
     "execution_count": 23,
     "metadata": {},
     "output_type": "execute_result"
    }
   ],
   "source": [
    "#power\n",
    "a**b"
   ]
  },
  {
   "cell_type": "code",
   "execution_count": 24,
   "id": "bc5ca843",
   "metadata": {},
   "outputs": [
    {
     "data": {
      "text/plain": [
       "1"
      ]
     },
     "execution_count": 24,
     "metadata": {},
     "output_type": "execute_result"
    }
   ],
   "source": [
    "#floor division\n",
    "a//b"
   ]
  },
  {
   "cell_type": "code",
   "execution_count": 26,
   "id": "57431b1b",
   "metadata": {},
   "outputs": [
    {
     "data": {
      "text/plain": [
       "20"
      ]
     },
     "execution_count": 26,
     "metadata": {},
     "output_type": "execute_result"
    }
   ],
   "source": [
    "#module\n",
    "a%b\n"
   ]
  },
  {
   "cell_type": "code",
   "execution_count": 27,
   "id": "3e1e6f9b",
   "metadata": {},
   "outputs": [
    {
     "data": {
      "text/plain": [
       "10000000000000000000000000000000000000000000000000000000000000000000000000000000000000000000000000000000000000000000000000000000000000000000000000000000000000000"
      ]
     },
     "execution_count": 27,
     "metadata": {},
     "output_type": "execute_result"
    }
   ],
   "source": [
    "pow(a,b)"
   ]
  },
  {
   "cell_type": "code",
   "execution_count": null,
   "id": "323c0463",
   "metadata": {},
   "outputs": [],
   "source": [
    "import math\n",
    "math"
   ]
  }
 ],
 "metadata": {
  "kernelspec": {
   "display_name": "Python 3 (ipykernel)",
   "language": "python",
   "name": "python3"
  },
  "language_info": {
   "codemirror_mode": {
    "name": "ipython",
    "version": 3
   },
   "file_extension": ".py",
   "mimetype": "text/x-python",
   "name": "python",
   "nbconvert_exporter": "python",
   "pygments_lexer": "ipython3",
   "version": "3.11.3"
  }
 },
 "nbformat": 4,
 "nbformat_minor": 5
}
