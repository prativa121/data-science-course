{
 "cells": [
  {
   "cell_type": "markdown",
   "id": "d5687e5c",
   "metadata": {},
   "source": [
    "# SINGLE INHERETENCE"
   ]
  },
  {
   "cell_type": "code",
   "execution_count": 2,
   "id": "e2808c5d",
   "metadata": {},
   "outputs": [],
   "source": [
    "class animal:\n",
    "    def __init__(self,name,age):\n",
    "        self.name=name\n",
    "        self.age=age\n",
    "        \n",
    "    def intro(self):\n",
    "        print(\"i am a animal\")\n",
    "        \n",
    "class cat(animal):\n",
    "    def __init__(self,name,age,color):\n",
    "        super().__init__(name,age)\n",
    "        self.color=color\n",
    "        \n",
    "    def speak(self):\n",
    "        print(\"meow\")\n",
    "        \n"
   ]
  },
  {
   "cell_type": "code",
   "execution_count": 3,
   "id": "c40e1ac1",
   "metadata": {},
   "outputs": [],
   "source": [
    "mycat=cat(\"flurry\",2,\"black\")"
   ]
  },
  {
   "cell_type": "code",
   "execution_count": 4,
   "id": "40a8d3a4",
   "metadata": {},
   "outputs": [
    {
     "name": "stdout",
     "output_type": "stream",
     "text": [
      "flurry\n"
     ]
    }
   ],
   "source": [
    "print(mycat.name)"
   ]
  },
  {
   "cell_type": "code",
   "execution_count": 5,
   "id": "21d1f912",
   "metadata": {},
   "outputs": [
    {
     "name": "stdout",
     "output_type": "stream",
     "text": [
      "black\n"
     ]
    }
   ],
   "source": [
    "print(mycat.color)"
   ]
  },
  {
   "cell_type": "code",
   "execution_count": 6,
   "id": "773ebd6f",
   "metadata": {},
   "outputs": [
    {
     "name": "stdout",
     "output_type": "stream",
     "text": [
      "meow\n"
     ]
    }
   ],
   "source": [
    "mycat.speak()"
   ]
  },
  {
   "cell_type": "code",
   "execution_count": 7,
   "id": "a9987884",
   "metadata": {},
   "outputs": [
    {
     "name": "stdout",
     "output_type": "stream",
     "text": [
      "i am a animal\n"
     ]
    }
   ],
   "source": [
    "mycat.intro()"
   ]
  },
  {
   "cell_type": "code",
   "execution_count": 8,
   "id": "f34dfe6e",
   "metadata": {},
   "outputs": [],
   "source": [
    "anim=animal(\"tiger\",5)"
   ]
  },
  {
   "cell_type": "code",
   "execution_count": 9,
   "id": "67db83cc",
   "metadata": {},
   "outputs": [
    {
     "name": "stdout",
     "output_type": "stream",
     "text": [
      "tiger\n"
     ]
    }
   ],
   "source": [
    "print(anim.name)"
   ]
  },
  {
   "cell_type": "code",
   "execution_count": 11,
   "id": "3f0efbde",
   "metadata": {},
   "outputs": [
    {
     "name": "stdout",
     "output_type": "stream",
     "text": [
      "5\n"
     ]
    }
   ],
   "source": [
    "print(anim.age)"
   ]
  },
  {
   "cell_type": "markdown",
   "id": "dee773d0",
   "metadata": {},
   "source": [
    "# multiple inheretenc"
   ]
  },
  {
   "cell_type": "code",
   "execution_count": 16,
   "id": "53426c1f",
   "metadata": {},
   "outputs": [],
   "source": [
    "class parent1:\n",
    "    def fun1(self):\n",
    "        print(\"hello i am parent 1\")\n",
    "        \n",
    "class parent2:\n",
    "    def func2(self):\n",
    "        print(\"hello i am parent 2\")\n",
    "        \n",
    "class child(parent1,parent2):\n",
    "    def func3(self):\n",
    "        print(\"hello i am children\")"
   ]
  },
  {
   "cell_type": "code",
   "execution_count": 17,
   "id": "93e46d1e",
   "metadata": {},
   "outputs": [],
   "source": [
    "obj=child()"
   ]
  },
  {
   "cell_type": "code",
   "execution_count": 18,
   "id": "d7576470",
   "metadata": {},
   "outputs": [
    {
     "name": "stdout",
     "output_type": "stream",
     "text": [
      "hello i am parent 1\n"
     ]
    }
   ],
   "source": [
    "obj.fun1()"
   ]
  },
  {
   "cell_type": "code",
   "execution_count": 19,
   "id": "f2cbcab9",
   "metadata": {},
   "outputs": [
    {
     "name": "stdout",
     "output_type": "stream",
     "text": [
      "hello i am parent 2\n"
     ]
    }
   ],
   "source": [
    "obj.func2()"
   ]
  },
  {
   "cell_type": "code",
   "execution_count": 20,
   "id": "1752761f",
   "metadata": {},
   "outputs": [
    {
     "name": "stdout",
     "output_type": "stream",
     "text": [
      "hello i am children\n"
     ]
    }
   ],
   "source": [
    "obj.func3()"
   ]
  },
  {
   "cell_type": "code",
   "execution_count": 21,
   "id": "01ed7192",
   "metadata": {},
   "outputs": [
    {
     "name": "stdout",
     "output_type": "stream",
     "text": [
      "hello i am parent 1\n"
     ]
    }
   ],
   "source": [
    "child().fun1()"
   ]
  },
  {
   "cell_type": "markdown",
   "id": "40021a99",
   "metadata": {},
   "source": [
    "# multi level inheretence"
   ]
  },
  {
   "cell_type": "code",
   "execution_count": 27,
   "id": "5d50a714",
   "metadata": {},
   "outputs": [],
   "source": [
    "class A:\n",
    "    def method1(self):\n",
    "        print(\"methos a from c :grandfather\")\n",
    "        \n",
    "class B(A):\n",
    "    def method2(self):\n",
    "        print(\"method b from c : father\")\n",
    "        \n",
    "class C(B):\n",
    "    def method3(self):\n",
    "        print(\"method c : child\")"
   ]
  },
  {
   "cell_type": "code",
   "execution_count": 28,
   "id": "b0ad1da2",
   "metadata": {},
   "outputs": [],
   "source": [
    "obj=C()"
   ]
  },
  {
   "cell_type": "code",
   "execution_count": 29,
   "id": "e48590a6",
   "metadata": {},
   "outputs": [
    {
     "name": "stdout",
     "output_type": "stream",
     "text": [
      "methos a from c :grandfather\n"
     ]
    }
   ],
   "source": [
    "obj.method1()"
   ]
  },
  {
   "cell_type": "code",
   "execution_count": 30,
   "id": "b1a6aa3f",
   "metadata": {},
   "outputs": [
    {
     "name": "stdout",
     "output_type": "stream",
     "text": [
      "method b from c : father\n"
     ]
    }
   ],
   "source": [
    "obj.method2()"
   ]
  },
  {
   "cell_type": "code",
   "execution_count": 31,
   "id": "176ce835",
   "metadata": {},
   "outputs": [
    {
     "name": "stdout",
     "output_type": "stream",
     "text": [
      "method c : child\n"
     ]
    }
   ],
   "source": [
    "obj.method3()"
   ]
  },
  {
   "cell_type": "markdown",
   "id": "2acf1c14",
   "metadata": {},
   "source": [
    "# hierarchial inheretence"
   ]
  },
  {
   "cell_type": "code",
   "execution_count": 39,
   "id": "a423dbdf",
   "metadata": {},
   "outputs": [],
   "source": [
    "class animal:\n",
    "    def __init__(self,name):\n",
    "        self.name=name\n",
    "        \n",
    "    def intro(self):\n",
    "        print(\"ok\")\n",
    "        pass\n",
    "class cat(animal):\n",
    "    def speak(self):\n",
    "        return \"meow\"\n",
    "class lion (animal):\n",
    "    def speak(self):\n",
    "        return \"roar\"\n",
    "    "
   ]
  },
  {
   "cell_type": "code",
   "execution_count": 33,
   "id": "85082a80",
   "metadata": {},
   "outputs": [],
   "source": [
    "cat1=cat(\"fluffy\")"
   ]
  },
  {
   "cell_type": "code",
   "execution_count": 35,
   "id": "666cbda2",
   "metadata": {},
   "outputs": [
    {
     "data": {
      "text/plain": [
       "'meow'"
      ]
     },
     "execution_count": 35,
     "metadata": {},
     "output_type": "execute_result"
    }
   ],
   "source": [
    "cat1.speak()"
   ]
  },
  {
   "cell_type": "code",
   "execution_count": 40,
   "id": "d7aa865d",
   "metadata": {},
   "outputs": [],
   "source": [
    "lion1=lion(\"sima\")"
   ]
  },
  {
   "cell_type": "code",
   "execution_count": 41,
   "id": "721dfda9",
   "metadata": {},
   "outputs": [
    {
     "name": "stdout",
     "output_type": "stream",
     "text": [
      "sima\n"
     ]
    }
   ],
   "source": [
    "print(lion1.name)"
   ]
  },
  {
   "cell_type": "code",
   "execution_count": 42,
   "id": "3647c6b5",
   "metadata": {},
   "outputs": [
    {
     "name": "stdout",
     "output_type": "stream",
     "text": [
      "ok\n"
     ]
    }
   ],
   "source": [
    "lion1.intro()"
   ]
  },
  {
   "cell_type": "markdown",
   "id": "f3d95b48",
   "metadata": {},
   "source": [
    "# hybrid inheretence"
   ]
  },
  {
   "cell_type": "code",
   "execution_count": 45,
   "id": "f9101262",
   "metadata": {},
   "outputs": [],
   "source": [
    "class animal:\n",
    "    def __init__(self,name):\n",
    "        self.name=name\n",
    "    def speak(self):\n",
    "        print(f'{self.name} is speaking')\n",
    "class mammal(animal):\n",
    "    def __init__(self,name):\n",
    "        super().__init__(name)\n",
    "        \n",
    "    def milkfeed(self):\n",
    "        print(f'{self.name} is feeding milk')\n",
    "        \n",
    "class bird(animal):\n",
    "    def __init__(self,name):\n",
    "        super().__init__(name)\n",
    "        \n",
    "    def fly(self):\n",
    "        print(f'{self.name} is flying')\n",
    "        \n",
    "class bat(mammal,bird):\n",
    "    def __init__(self,name):\n",
    "        super().__init__(name)"
   ]
  },
  {
   "cell_type": "code",
   "execution_count": 46,
   "id": "2cbed3b8",
   "metadata": {},
   "outputs": [
    {
     "name": "stdout",
     "output_type": "stream",
     "text": [
      "bree is speaking\n"
     ]
    }
   ],
   "source": [
    "b=bat('bree')\n",
    "b.speak()"
   ]
  },
  {
   "cell_type": "code",
   "execution_count": 47,
   "id": "8fc0491c",
   "metadata": {},
   "outputs": [
    {
     "name": "stdout",
     "output_type": "stream",
     "text": [
      "bree is feeding milk\n"
     ]
    }
   ],
   "source": [
    "b.milkfeed()"
   ]
  },
  {
   "cell_type": "code",
   "execution_count": 48,
   "id": "5683b0ad",
   "metadata": {},
   "outputs": [
    {
     "name": "stdout",
     "output_type": "stream",
     "text": [
      "bree is flying\n"
     ]
    }
   ],
   "source": [
    "b.fly()"
   ]
  },
  {
   "cell_type": "code",
   "execution_count": null,
   "id": "1cabc986",
   "metadata": {},
   "outputs": [],
   "source": []
  }
 ],
 "metadata": {
  "kernelspec": {
   "display_name": "Python 3 (ipykernel)",
   "language": "python",
   "name": "python3"
  },
  "language_info": {
   "codemirror_mode": {
    "name": "ipython",
    "version": 3
   },
   "file_extension": ".py",
   "mimetype": "text/x-python",
   "name": "python",
   "nbconvert_exporter": "python",
   "pygments_lexer": "ipython3",
   "version": "3.11.3"
  }
 },
 "nbformat": 4,
 "nbformat_minor": 5
}
