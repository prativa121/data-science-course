{
 "cells": [
  {
   "cell_type": "code",
   "execution_count": 1,
   "id": "a5cec21c",
   "metadata": {},
   "outputs": [],
   "source": [
    "list1=[1,2,3,4,5]"
   ]
  },
  {
   "cell_type": "code",
   "execution_count": 2,
   "id": "adf97f33",
   "metadata": {},
   "outputs": [
    {
     "data": {
      "text/plain": [
       "[2, 3]"
      ]
     },
     "execution_count": 2,
     "metadata": {},
     "output_type": "execute_result"
    }
   ],
   "source": [
    "list1[1:3]"
   ]
  },
  {
   "cell_type": "code",
   "execution_count": 3,
   "id": "78138ad4",
   "metadata": {},
   "outputs": [
    {
     "data": {
      "text/plain": [
       "[2, 3]"
      ]
     },
     "execution_count": 3,
     "metadata": {},
     "output_type": "execute_result"
    }
   ],
   "source": [
    "list1[1:3]"
   ]
  },
  {
   "cell_type": "markdown",
   "id": "744e4bbc",
   "metadata": {},
   "source": [
    "## one dimension"
   ]
  },
  {
   "cell_type": "code",
   "execution_count": 4,
   "id": "164b136b",
   "metadata": {},
   "outputs": [],
   "source": [
    "import numpy as np"
   ]
  },
  {
   "cell_type": "code",
   "execution_count": 6,
   "id": "4f362627",
   "metadata": {},
   "outputs": [],
   "source": [
    "array1=np.array(list1)"
   ]
  },
  {
   "cell_type": "code",
   "execution_count": 7,
   "id": "38f92648",
   "metadata": {},
   "outputs": [
    {
     "data": {
      "text/plain": [
       "array([2, 3])"
      ]
     },
     "execution_count": 7,
     "metadata": {},
     "output_type": "execute_result"
    }
   ],
   "source": [
    "array1[1:3]"
   ]
  },
  {
   "cell_type": "markdown",
   "id": "0c21561f",
   "metadata": {},
   "source": [
    "## multi dimension array"
   ]
  },
  {
   "cell_type": "code",
   "execution_count": 10,
   "id": "ad9fa52b",
   "metadata": {},
   "outputs": [],
   "source": [
    "list2=[[1,2,3,4,5],[6,7,8,9,10]]"
   ]
  },
  {
   "cell_type": "code",
   "execution_count": 11,
   "id": "96c6a032",
   "metadata": {},
   "outputs": [
    {
     "data": {
      "text/plain": [
       "[2, 3]"
      ]
     },
     "execution_count": 11,
     "metadata": {},
     "output_type": "execute_result"
    }
   ],
   "source": [
    "list2[0][1:3]"
   ]
  },
  {
   "cell_type": "code",
   "execution_count": 9,
   "id": "baafa646",
   "metadata": {},
   "outputs": [],
   "source": [
    "array2=np.array(list2)"
   ]
  },
  {
   "cell_type": "code",
   "execution_count": 12,
   "id": "1c5c69c3",
   "metadata": {},
   "outputs": [
    {
     "data": {
      "text/plain": [
       "array([7, 8])"
      ]
     },
     "execution_count": 12,
     "metadata": {},
     "output_type": "execute_result"
    }
   ],
   "source": [
    "array2[1][1:3]"
   ]
  },
  {
   "cell_type": "code",
   "execution_count": 13,
   "id": "d5829d6d",
   "metadata": {},
   "outputs": [
    {
     "data": {
      "text/plain": [
       "array([7, 8])"
      ]
     },
     "execution_count": 13,
     "metadata": {},
     "output_type": "execute_result"
    }
   ],
   "source": [
    "array2[1,1:3]"
   ]
  },
  {
   "cell_type": "code",
   "execution_count": 16,
   "id": "d55192e6",
   "metadata": {},
   "outputs": [
    {
     "data": {
      "text/plain": [
       "array([[2, 3],\n",
       "       [7, 8]])"
      ]
     },
     "execution_count": 16,
     "metadata": {},
     "output_type": "execute_result"
    }
   ],
   "source": [
    "array2[:,1:3]"
   ]
  },
  {
   "cell_type": "code",
   "execution_count": 17,
   "id": "3f1655ec",
   "metadata": {},
   "outputs": [
    {
     "data": {
      "text/plain": [
       "array([[ 6,  7,  8,  9, 10]])"
      ]
     },
     "execution_count": 17,
     "metadata": {},
     "output_type": "execute_result"
    }
   ],
   "source": [
    "array2[1:5:2]"
   ]
  },
  {
   "cell_type": "code",
   "execution_count": 26,
   "id": "b89af4af",
   "metadata": {},
   "outputs": [
    {
     "data": {
      "text/plain": [
       "array([[2, 4],\n",
       "       [7, 9]])"
      ]
     },
     "execution_count": 26,
     "metadata": {},
     "output_type": "execute_result"
    }
   ],
   "source": [
    "array2[:,1:5:2]"
   ]
  },
  {
   "cell_type": "code",
   "execution_count": 29,
   "id": "1a8082ad",
   "metadata": {},
   "outputs": [],
   "source": [
    "list3=[[1,2,3,4,5,6],[11,22,33,44,55,66],[10,20,30,40,50,60]]"
   ]
  },
  {
   "cell_type": "code",
   "execution_count": 31,
   "id": "6cc43daf",
   "metadata": {},
   "outputs": [],
   "source": [
    "array3=np.array(list3)"
   ]
  },
  {
   "cell_type": "code",
   "execution_count": 32,
   "id": "ef54e81c",
   "metadata": {
    "scrolled": false
   },
   "outputs": [
    {
     "data": {
      "text/plain": [
       "array([[ 1,  2,  3,  4,  5,  6],\n",
       "       [11, 22, 33, 44, 55, 66],\n",
       "       [10, 20, 30, 40, 50, 60]])"
      ]
     },
     "execution_count": 32,
     "metadata": {},
     "output_type": "execute_result"
    }
   ],
   "source": [
    "array3"
   ]
  },
  {
   "cell_type": "code",
   "execution_count": null,
   "id": "681af588",
   "metadata": {},
   "outputs": [],
   "source": []
  },
  {
   "cell_type": "code",
   "execution_count": null,
   "id": "a61bdb34",
   "metadata": {},
   "outputs": [],
   "source": []
  },
  {
   "cell_type": "code",
   "execution_count": 34,
   "id": "2db71caa",
   "metadata": {},
   "outputs": [
    {
     "data": {
      "text/plain": [
       "array([[33, 44, 55],\n",
       "       [30, 40, 50]])"
      ]
     },
     "execution_count": 34,
     "metadata": {},
     "output_type": "execute_result"
    }
   ],
   "source": [
    "array3[1:,2:5]"
   ]
  },
  {
   "cell_type": "code",
   "execution_count": 36,
   "id": "f6094e6c",
   "metadata": {},
   "outputs": [
    {
     "data": {
      "text/plain": [
       "array([[ 6],\n",
       "       [66],\n",
       "       [60]])"
      ]
     },
     "execution_count": 36,
     "metadata": {},
     "output_type": "execute_result"
    }
   ],
   "source": [
    "array3[:,-1:]"
   ]
  },
  {
   "cell_type": "code",
   "execution_count": 37,
   "id": "c41b8803",
   "metadata": {},
   "outputs": [
    {
     "data": {
      "text/plain": [
       "(3, 6)"
      ]
     },
     "execution_count": 37,
     "metadata": {},
     "output_type": "execute_result"
    }
   ],
   "source": [
    "array3.shape"
   ]
  },
  {
   "cell_type": "code",
   "execution_count": 38,
   "id": "ca5c55d2",
   "metadata": {},
   "outputs": [
    {
     "data": {
      "text/plain": [
       "3"
      ]
     },
     "execution_count": 38,
     "metadata": {},
     "output_type": "execute_result"
    }
   ],
   "source": [
    "array3.shape[0]"
   ]
  },
  {
   "cell_type": "code",
   "execution_count": 44,
   "id": "85398225",
   "metadata": {},
   "outputs": [],
   "source": [
    "list4=[[[1,2,3,4],[11,22,33,44]],[[1,2,3,4],[11,22,33,44]],[1,2,3,4],[11,22,33,44]]"
   ]
  },
  {
   "cell_type": "code",
   "execution_count": 45,
   "id": "a390746a",
   "metadata": {},
   "outputs": [
    {
     "data": {
      "text/plain": [
       "[[[1, 2, 3, 4], [11, 22, 33, 44]],\n",
       " [[1, 2, 3, 4], [11, 22, 33, 44]],\n",
       " [1, 2, 3, 4],\n",
       " [11, 22, 33, 44]]"
      ]
     },
     "execution_count": 45,
     "metadata": {},
     "output_type": "execute_result"
    }
   ],
   "source": [
    "list4"
   ]
  },
  {
   "cell_type": "code",
   "execution_count": 46,
   "id": "63cea511",
   "metadata": {},
   "outputs": [
    {
     "ename": "ValueError",
     "evalue": "setting an array element with a sequence. The requested array has an inhomogeneous shape after 1 dimensions. The detected shape was (4,) + inhomogeneous part.",
     "output_type": "error",
     "traceback": [
      "\u001b[1;31m---------------------------------------------------------------------------\u001b[0m",
      "\u001b[1;31mValueError\u001b[0m                                Traceback (most recent call last)",
      "Cell \u001b[1;32mIn[46], line 1\u001b[0m\n\u001b[1;32m----> 1\u001b[0m array4\u001b[38;5;241m=\u001b[39m\u001b[43mnp\u001b[49m\u001b[38;5;241;43m.\u001b[39;49m\u001b[43marray\u001b[49m\u001b[43m(\u001b[49m\u001b[43mlist4\u001b[49m\u001b[43m)\u001b[49m\n",
      "\u001b[1;31mValueError\u001b[0m: setting an array element with a sequence. The requested array has an inhomogeneous shape after 1 dimensions. The detected shape was (4,) + inhomogeneous part."
     ]
    }
   ],
   "source": [
    "array4=np.array(list4)"
   ]
  },
  {
   "cell_type": "code",
   "execution_count": null,
   "id": "03401b96",
   "metadata": {},
   "outputs": [],
   "source": []
  },
  {
   "cell_type": "code",
   "execution_count": null,
   "id": "ed9b4ab3",
   "metadata": {},
   "outputs": [],
   "source": []
  },
  {
   "cell_type": "code",
   "execution_count": null,
   "id": "d1375090",
   "metadata": {},
   "outputs": [],
   "source": []
  },
  {
   "cell_type": "code",
   "execution_count": null,
   "id": "72a12053",
   "metadata": {},
   "outputs": [],
   "source": []
  },
  {
   "cell_type": "code",
   "execution_count": null,
   "id": "c2616dca",
   "metadata": {},
   "outputs": [],
   "source": []
  }
 ],
 "metadata": {
  "kernelspec": {
   "display_name": "Python 3 (ipykernel)",
   "language": "python",
   "name": "python3"
  },
  "language_info": {
   "codemirror_mode": {
    "name": "ipython",
    "version": 3
   },
   "file_extension": ".py",
   "mimetype": "text/x-python",
   "name": "python",
   "nbconvert_exporter": "python",
   "pygments_lexer": "ipython3",
   "version": "3.11.3"
  }
 },
 "nbformat": 4,
 "nbformat_minor": 5
}
