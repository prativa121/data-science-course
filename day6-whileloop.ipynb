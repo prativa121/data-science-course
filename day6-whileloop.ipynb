{
 "cells": [
  {
   "cell_type": "code",
   "execution_count": 2,
   "id": "590b391f",
   "metadata": {},
   "outputs": [],
   "source": [
    "#while loop\n",
    "a=[1,2,3,4]"
   ]
  },
  {
   "cell_type": "code",
   "execution_count": 3,
   "id": "8cd1effb",
   "metadata": {},
   "outputs": [
    {
     "name": "stdout",
     "output_type": "stream",
     "text": [
      "0\n",
      "1\n",
      "2\n",
      "3\n",
      "4\n"
     ]
    }
   ],
   "source": [
    "i=0\n",
    "cond=True\n",
    "while cond:\n",
    "    print(i)\n",
    "    i=i+1\n",
    "    if i==5:\n",
    "        cond=False"
   ]
  },
  {
   "cell_type": "code",
   "execution_count": 4,
   "id": "bd64d46f",
   "metadata": {},
   "outputs": [
    {
     "name": "stdout",
     "output_type": "stream",
     "text": [
      "0\n",
      "1\n",
      "2\n",
      "3\n",
      "4\n"
     ]
    }
   ],
   "source": [
    "i=0\n",
    "cond=True\n",
    "while cond:\n",
    "    print(i)\n",
    "    i=i+1\n",
    "    if i==5:\n",
    "        break"
   ]
  },
  {
   "cell_type": "code",
   "execution_count": 9,
   "id": "11a9edac",
   "metadata": {},
   "outputs": [
    {
     "name": "stdout",
     "output_type": "stream",
     "text": [
      "2\n"
     ]
    }
   ],
   "source": [
    "#functions\n",
    "\n",
    "def sums(a,b):\n",
    "    return (a+b)\n",
    "    \n",
    "d=sums(2,3)\n",
    "print(d)\n",
    "    \n",
    "\n"
   ]
  },
  {
   "cell_type": "code",
   "execution_count": 10,
   "id": "40a0503f",
   "metadata": {},
   "outputs": [],
   "source": [
    "def square(x):\n",
    "    return x**2\n",
    "\n",
    "#local variable : variable defined inside a function/class and value terminate as function terminates\n",
    "#global variable: variable defined outside a function/class and persists throughout the program\n",
    "\n"
   ]
  },
  {
   "cell_type": "code",
   "execution_count": 11,
   "id": "9bc96213",
   "metadata": {},
   "outputs": [
    {
     "data": {
      "text/plain": [
       "9"
      ]
     },
     "execution_count": 11,
     "metadata": {},
     "output_type": "execute_result"
    }
   ],
   "source": [
    "#function calling\n",
    "square(3)"
   ]
  },
  {
   "cell_type": "code",
   "execution_count": 13,
   "id": "5d719bf6",
   "metadata": {},
   "outputs": [],
   "source": [
    "def square(x,y):\n",
    "    z=x**y\n",
    "    return (x,y,z)\n",
    "\n",
    "val=square(2,3)\n"
   ]
  },
  {
   "cell_type": "code",
   "execution_count": 14,
   "id": "887362bf",
   "metadata": {},
   "outputs": [
    {
     "data": {
      "text/plain": [
       "(2, 3, 8)"
      ]
     },
     "execution_count": 14,
     "metadata": {},
     "output_type": "execute_result"
    }
   ],
   "source": [
    "val"
   ]
  },
  {
   "cell_type": "code",
   "execution_count": 15,
   "id": "0887a307",
   "metadata": {},
   "outputs": [],
   "source": [
    "def power(x,y):\n",
    "    z=x**y\n",
    "    return(x,y,z)\n",
    "\n"
   ]
  },
  {
   "cell_type": "code",
   "execution_count": 16,
   "id": "2ed6f9f0",
   "metadata": {},
   "outputs": [],
   "source": [
    "val,power,result=power(3,4)"
   ]
  },
  {
   "cell_type": "code",
   "execution_count": 17,
   "id": "bfeafc09",
   "metadata": {},
   "outputs": [
    {
     "data": {
      "text/plain": [
       "(3, 4, 81)"
      ]
     },
     "execution_count": 17,
     "metadata": {},
     "output_type": "execute_result"
    }
   ],
   "source": [
    "val,power,result"
   ]
  },
  {
   "cell_type": "code",
   "execution_count": 18,
   "id": "b2ac7c18",
   "metadata": {},
   "outputs": [],
   "source": [
    "def power(x=1,y=1):\n",
    "    z=x**y\n",
    "    return(x,y,z)\n"
   ]
  },
  {
   "cell_type": "code",
   "execution_count": 21,
   "id": "631bccd0",
   "metadata": {},
   "outputs": [],
   "source": [
    "a,b,c=power(y=3)"
   ]
  },
  {
   "cell_type": "code",
   "execution_count": 22,
   "id": "7e3fffa8",
   "metadata": {},
   "outputs": [
    {
     "data": {
      "text/plain": [
       "(1, 3, 1)"
      ]
     },
     "execution_count": 22,
     "metadata": {},
     "output_type": "execute_result"
    }
   ],
   "source": [
    "a,b,c"
   ]
  },
  {
   "cell_type": "code",
   "execution_count": 31,
   "id": "37d25bd8",
   "metadata": {},
   "outputs": [],
   "source": [
    "#args and kwargs\n",
    "def func(*args,**kwargs):\n",
    "    for item in args:\n",
    "        print(item)\n",
    "    for key, val in kwargs.items():\n",
    "        print(key, val)"
   ]
  },
  {
   "cell_type": "code",
   "execution_count": 32,
   "id": "6ea4c9e1",
   "metadata": {},
   "outputs": [
    {
     "name": "stdout",
     "output_type": "stream",
     "text": [
      "1\n",
      "abc\n",
      "name vrit\n",
      "address shankhamul\n",
      "age 40\n"
     ]
    }
   ],
   "source": [
    " func(1,'abc',name='vrit',address='shankhamul',age=40)"
   ]
  },
  {
   "cell_type": "code",
   "execution_count": 33,
   "id": "c806b23c",
   "metadata": {},
   "outputs": [],
   "source": [
    "#sequence 3 with different length and a function to calculate the sum of each sequence\n",
    "\n",
    "a=[1,2,3]\n",
    "b=[2,3,4,5,6]\n",
    "c=[4,5,6,7]\n"
   ]
  },
  {
   "cell_type": "code",
   "execution_count": 51,
   "id": "791315dc",
   "metadata": {},
   "outputs": [],
   "source": [
    "def funct(*args , **kwargs):\n",
    "    sum=0\n",
    "    for item in args:\n",
    "        sum=sum+item\n",
    "    print (sum)\n",
    "    sum=0\n",
    "    for key,val in kwargs.items():\n",
    "        sum=sum+val\n",
    "    print(sum)\n",
    "     "
   ]
  },
  {
   "cell_type": "code",
   "execution_count": 52,
   "id": "162181cd",
   "metadata": {},
   "outputs": [
    {
     "name": "stdout",
     "output_type": "stream",
     "text": [
      "10\n",
      "22\n"
     ]
    }
   ],
   "source": [
    "funct(1,2,3,4,a=2,b=3,c=8,d=9)"
   ]
  },
  {
   "cell_type": "code",
   "execution_count": 54,
   "id": "7f55292f",
   "metadata": {},
   "outputs": [],
   "source": [
    "def funct(*args ):\n",
    "    sum=0\n",
    "    for item in args:\n",
    "        sum=sum+item\n",
    "    print (sum)\n",
    "    "
   ]
  },
  {
   "cell_type": "code",
   "execution_count": 55,
   "id": "1daa725f",
   "metadata": {},
   "outputs": [
    {
     "name": "stdout",
     "output_type": "stream",
     "text": [
      "15\n",
      "21\n",
      "24\n"
     ]
    }
   ],
   "source": [
    "funct(1,2,3,4,5)\n",
    "funct(3,3,3,3,3,3,3)\n",
    "funct(4,4,4,4,4,4)"
   ]
  },
  {
   "cell_type": "code",
   "execution_count": 75,
   "id": "a031e1a4",
   "metadata": {},
   "outputs": [],
   "source": [
    "a=[1,2,3]\n",
    "b=[1,2,3,4,5]\n",
    "c=[1,2,3,4,5,6]"
   ]
  },
  {
   "cell_type": "code",
   "execution_count": 76,
   "id": "17b7d33c",
   "metadata": {},
   "outputs": [
    {
     "name": "stdout",
     "output_type": "stream",
     "text": [
      "6\n"
     ]
    }
   ],
   "source": [
    "sum=0\n",
    "for i in range(len(a)):\n",
    "    sum=sum+a[i]\n",
    "print (sum)"
   ]
  },
  {
   "cell_type": "code",
   "execution_count": 81,
   "id": "67c5ad19",
   "metadata": {},
   "outputs": [],
   "source": [
    "def sumf(f):\n",
    "    sum=0\n",
    "    for i in range(len(f)):\n",
    "        sum=sum+f[i]\n",
    "    print (sum)\n"
   ]
  },
  {
   "cell_type": "code",
   "execution_count": 71,
   "id": "cacae879",
   "metadata": {},
   "outputs": [
    {
     "name": "stdout",
     "output_type": "stream",
     "text": [
      "6\n"
     ]
    }
   ],
   "source": [
    "#list comrehensive\n",
    "sumf(a)"
   ]
  },
  {
   "cell_type": "code",
   "execution_count": 82,
   "id": "3433e314",
   "metadata": {},
   "outputs": [
    {
     "name": "stdout",
     "output_type": "stream",
     "text": [
      "15\n"
     ]
    }
   ],
   "source": [
    "sumf(b)"
   ]
  },
  {
   "cell_type": "code",
   "execution_count": 83,
   "id": "3c236636",
   "metadata": {},
   "outputs": [
    {
     "name": "stdout",
     "output_type": "stream",
     "text": [
      "21\n"
     ]
    }
   ],
   "source": [
    "sumf(c)"
   ]
  },
  {
   "cell_type": "code",
   "execution_count": 72,
   "id": "a4bd9158",
   "metadata": {},
   "outputs": [],
   "source": [
    "b=[x**2 for x in a if x%2==0]"
   ]
  },
  {
   "cell_type": "code",
   "execution_count": null,
   "id": "6b6b230f",
   "metadata": {},
   "outputs": [],
   "source": []
  }
 ],
 "metadata": {
  "kernelspec": {
   "display_name": "Python 3 (ipykernel)",
   "language": "python",
   "name": "python3"
  },
  "language_info": {
   "codemirror_mode": {
    "name": "ipython",
    "version": 3
   },
   "file_extension": ".py",
   "mimetype": "text/x-python",
   "name": "python",
   "nbconvert_exporter": "python",
   "pygments_lexer": "ipython3",
   "version": "3.11.3"
  }
 },
 "nbformat": 4,
 "nbformat_minor": 5
}
