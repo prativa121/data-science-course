{
 "cells": [
  {
   "cell_type": "code",
   "execution_count": 31,
   "id": "4aa5dd47",
   "metadata": {},
   "outputs": [],
   "source": [
    "from abc import ABC, abstractmethod\n",
    "\n",
    "class shape(ABC):\n",
    "    @abstractmethod\n",
    "    def area(self):\n",
    "        pass\n",
    "    @abstractmethod\n",
    "    def perimeter(self):\n",
    "        pass"
   ]
  },
  {
   "cell_type": "code",
   "execution_count": 32,
   "id": "7554cc42",
   "metadata": {},
   "outputs": [
    {
     "ename": "TypeError",
     "evalue": "Can't instantiate abstract class shape with abstract methods area, perimeter",
     "output_type": "error",
     "traceback": [
      "\u001b[1;31m---------------------------------------------------------------------------\u001b[0m",
      "\u001b[1;31mTypeError\u001b[0m                                 Traceback (most recent call last)",
      "Cell \u001b[1;32mIn[32], line 1\u001b[0m\n\u001b[1;32m----> 1\u001b[0m sha\u001b[38;5;241m=\u001b[39m\u001b[43mshape\u001b[49m\u001b[43m(\u001b[49m\u001b[43m)\u001b[49m\n",
      "\u001b[1;31mTypeError\u001b[0m: Can't instantiate abstract class shape with abstract methods area, perimeter"
     ]
    }
   ],
   "source": [
    "sha=shape()"
   ]
  },
  {
   "cell_type": "code",
   "execution_count": 33,
   "id": "b18f7384",
   "metadata": {},
   "outputs": [],
   "source": [
    "class rectangle(shape):\n",
    "    def __init__(self,width,height):\n",
    "        self.width=width\n",
    "        self.height=height\n",
    "        \n",
    "    def area(self):\n",
    "        return self.width*self.height"
   ]
  },
  {
   "cell_type": "code",
   "execution_count": 34,
   "id": "e2bfee71",
   "metadata": {},
   "outputs": [
    {
     "ename": "TypeError",
     "evalue": "Can't instantiate abstract class rectangle with abstract method perimeter",
     "output_type": "error",
     "traceback": [
      "\u001b[1;31m---------------------------------------------------------------------------\u001b[0m",
      "\u001b[1;31mTypeError\u001b[0m                                 Traceback (most recent call last)",
      "Cell \u001b[1;32mIn[34], line 1\u001b[0m\n\u001b[1;32m----> 1\u001b[0m rect\u001b[38;5;241m=\u001b[39m\u001b[43mrectangle\u001b[49m\u001b[43m(\u001b[49m\u001b[38;5;241;43m4\u001b[39;49m\u001b[43m,\u001b[49m\u001b[38;5;241;43m5\u001b[39;49m\u001b[43m)\u001b[49m\n\u001b[0;32m      2\u001b[0m rect\u001b[38;5;241m.\u001b[39marea()\n",
      "\u001b[1;31mTypeError\u001b[0m: Can't instantiate abstract class rectangle with abstract method perimeter"
     ]
    }
   ],
   "source": [
    "rect=rectangle(4,5)\n",
    "rect.area()"
   ]
  },
  {
   "cell_type": "markdown",
   "id": "a18be098",
   "metadata": {},
   "source": [
    "an abstract class that cannot be instantiated but can be subclass"
   ]
  },
  {
   "cell_type": "code",
   "execution_count": 25,
   "id": "fc4a845b",
   "metadata": {},
   "outputs": [],
   "source": [
    "class rectangle(shape):\n",
    "    def __init__(self,width,height):\n",
    "        self.width=width\n",
    "        self.height=height\n",
    "        \n",
    "    def area(self):\n",
    "        return self.width*self.height\n",
    "    \n",
    "    def perimeter(self):\n",
    "        return 2*(self.width*self.height)\n",
    "    \n",
    "    "
   ]
  },
  {
   "cell_type": "code",
   "execution_count": 26,
   "id": "cf0437c9",
   "metadata": {},
   "outputs": [],
   "source": [
    "rec=rectangle(2,3)"
   ]
  },
  {
   "cell_type": "code",
   "execution_count": 27,
   "id": "6d742b33",
   "metadata": {},
   "outputs": [
    {
     "data": {
      "text/plain": [
       "6"
      ]
     },
     "execution_count": 27,
     "metadata": {},
     "output_type": "execute_result"
    }
   ],
   "source": [
    "rec.area()"
   ]
  },
  {
   "cell_type": "code",
   "execution_count": 28,
   "id": "a2b4ff87",
   "metadata": {},
   "outputs": [
    {
     "data": {
      "text/plain": [
       "12"
      ]
     },
     "execution_count": 28,
     "metadata": {},
     "output_type": "execute_result"
    }
   ],
   "source": [
    "rec.perimeter()"
   ]
  },
  {
   "cell_type": "code",
   "execution_count": 29,
   "id": "6281454b",
   "metadata": {},
   "outputs": [
    {
     "name": "stdout",
     "output_type": "stream",
     "text": [
      "6\n"
     ]
    }
   ],
   "source": [
    "print(rec.area())"
   ]
  },
  {
   "cell_type": "code",
   "execution_count": null,
   "id": "efc66094",
   "metadata": {},
   "outputs": [],
   "source": []
  }
 ],
 "metadata": {
  "kernelspec": {
   "display_name": "Python 3 (ipykernel)",
   "language": "python",
   "name": "python3"
  },
  "language_info": {
   "codemirror_mode": {
    "name": "ipython",
    "version": 3
   },
   "file_extension": ".py",
   "mimetype": "text/x-python",
   "name": "python",
   "nbconvert_exporter": "python",
   "pygments_lexer": "ipython3",
   "version": "3.11.3"
  }
 },
 "nbformat": 4,
 "nbformat_minor": 5
}
