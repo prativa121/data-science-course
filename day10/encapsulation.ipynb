{
 "cells": [
  {
   "cell_type": "code",
   "execution_count": 11,
   "id": "5508910a",
   "metadata": {},
   "outputs": [],
   "source": [
    "class example:\n",
    "    def __init__(self):\n",
    "        self.public_var=1\n",
    "        self._protected_var=2\n",
    "        self.__private_var=3\n",
    "        \n",
    "    def public_method(self):\n",
    "        print(\"this is a pblic method\")\n",
    "        \n",
    "    def _protected_method(self):\n",
    "        print(\"this is protected method\")\n",
    "        \n",
    "    def __private_method(self):\n",
    "        print(\"this is private method\")"
   ]
  },
  {
   "cell_type": "code",
   "execution_count": 12,
   "id": "3fc0f57e",
   "metadata": {},
   "outputs": [],
   "source": [
    "class subclass(example):\n",
    "    def __init__(self):\n",
    "        super().__init__()\n",
    "        \n",
    "    def get_public_member(self):\n",
    "        print(self.public_var)\n",
    "        \n",
    "    def get_protected_member(self):\n",
    "        print(self._protected_var)\n",
    "        \n",
    "    def get_private_member(self):\n",
    "        print(self.__private_var)\n",
    "    "
   ]
  },
  {
   "cell_type": "code",
   "execution_count": 14,
   "id": "5d4e0812",
   "metadata": {},
   "outputs": [
    {
     "name": "stdout",
     "output_type": "stream",
     "text": [
      "1\n",
      "2\n"
     ]
    }
   ],
   "source": [
    "sub=subclass()\n",
    "sub.get_public_member()#can be accessed\n",
    "sub.get_protected_member()#can be accesed\n",
    "#sub.get_private_member()#cannot be accesed"
   ]
  },
  {
   "cell_type": "code",
   "execution_count": 16,
   "id": "2ad2168e",
   "metadata": {},
   "outputs": [
    {
     "name": "stdout",
     "output_type": "stream",
     "text": [
      "this is a pblic method\n",
      "this is protected method\n"
     ]
    }
   ],
   "source": [
    "obj=example()\n",
    "obj.public_method()\n",
    "obj._protected_method()\n",
    "#obj.__private_method() #cannot be accessed"
   ]
  },
  {
   "cell_type": "code",
   "execution_count": null,
   "id": "746a93e6",
   "metadata": {},
   "outputs": [],
   "source": []
  }
 ],
 "metadata": {
  "kernelspec": {
   "display_name": "Python 3 (ipykernel)",
   "language": "python",
   "name": "python3"
  },
  "language_info": {
   "codemirror_mode": {
    "name": "ipython",
    "version": 3
   },
   "file_extension": ".py",
   "mimetype": "text/x-python",
   "name": "python",
   "nbconvert_exporter": "python",
   "pygments_lexer": "ipython3",
   "version": "3.11.3"
  }
 },
 "nbformat": 4,
 "nbformat_minor": 5
}
