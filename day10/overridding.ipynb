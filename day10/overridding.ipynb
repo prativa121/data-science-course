{
 "cells": [
  {
   "cell_type": "code",
   "execution_count": 1,
   "id": "404078b6",
   "metadata": {},
   "outputs": [],
   "source": [
    "# overridding\n",
    "\n",
    "class animal():\n",
    "    def speak(self):\n",
    "        print(\"tt\")\n",
    "        \n",
    "class cat(animal):\n",
    "    def speak(self):\n",
    "        print(\"meow\")\n",
    "        \n",
    "class dog(animal):\n",
    "    def speak(self):\n",
    "        print(\"bark\")\n",
    "        \n",
    "        "
   ]
  },
  {
   "cell_type": "code",
   "execution_count": 2,
   "id": "2adfc636",
   "metadata": {},
   "outputs": [],
   "source": [
    "animal1=animal()\n",
    "dog1=dog()\n",
    "cat1=cat()"
   ]
  },
  {
   "cell_type": "code",
   "execution_count": 3,
   "id": "9ce28ba0",
   "metadata": {},
   "outputs": [
    {
     "name": "stdout",
     "output_type": "stream",
     "text": [
      "tt\n",
      "bark\n",
      "meow\n"
     ]
    }
   ],
   "source": [
    "animal1.speak()\n",
    "dog1.speak()\n",
    "cat1.speak()"
   ]
  },
  {
   "cell_type": "code",
   "execution_count": 11,
   "id": "ae593197",
   "metadata": {},
   "outputs": [],
   "source": [
    "\n",
    "class animal():\n",
    "    def speak(self):\n",
    "        print(\"tt make noise\")\n",
    "        \n",
    "class base():\n",
    "    def speak(self):\n",
    "        print(\"base class\")\n",
    "        \n",
    "class cat(animal,base):\n",
    "    def sound(self):\n",
    "        print(\"meow\")\n",
    "        \n"
   ]
  },
  {
   "cell_type": "code",
   "execution_count": 12,
   "id": "23e4f9fa",
   "metadata": {},
   "outputs": [
    {
     "name": "stdout",
     "output_type": "stream",
     "text": [
      "tt make noise\n"
     ]
    }
   ],
   "source": [
    "animal1=animal()\n",
    "animal1.speak()"
   ]
  },
  {
   "cell_type": "code",
   "execution_count": 13,
   "id": "964c2c38",
   "metadata": {},
   "outputs": [
    {
     "name": "stdout",
     "output_type": "stream",
     "text": [
      "base class\n"
     ]
    }
   ],
   "source": [
    "base1=base()\n",
    "base1.speak()"
   ]
  },
  {
   "cell_type": "code",
   "execution_count": 15,
   "id": "01c61c84",
   "metadata": {},
   "outputs": [
    {
     "name": "stdout",
     "output_type": "stream",
     "text": [
      "tt make noise\n",
      "meow\n"
     ]
    }
   ],
   "source": [
    "cat1=cat()\n",
    "cat1.speak()\n",
    "cat1.sound()"
   ]
  },
  {
   "cell_type": "code",
   "execution_count": 16,
   "id": "ec90065d",
   "metadata": {},
   "outputs": [],
   "source": [
    "class parent():\n",
    "    def say_hello(self):\n",
    "        print(\"hello from parent\")\n",
    "class child(parent):\n",
    "    def say_hello(self):\n",
    "        print(\"hello from children\")\n",
    "        super().say_hello()"
   ]
  },
  {
   "cell_type": "code",
   "execution_count": 17,
   "id": "38879fbb",
   "metadata": {},
   "outputs": [
    {
     "name": "stdout",
     "output_type": "stream",
     "text": [
      "hello from children\n",
      "hello from child\n"
     ]
    }
   ],
   "source": [
    "obj=child()\n",
    "obj.say_hello()"
   ]
  }
 ],
 "metadata": {
  "kernelspec": {
   "display_name": "Python 3 (ipykernel)",
   "language": "python",
   "name": "python3"
  },
  "language_info": {
   "codemirror_mode": {
    "name": "ipython",
    "version": 3
   },
   "file_extension": ".py",
   "mimetype": "text/x-python",
   "name": "python",
   "nbconvert_exporter": "python",
   "pygments_lexer": "ipython3",
   "version": "3.11.3"
  }
 },
 "nbformat": 4,
 "nbformat_minor": 5
}
