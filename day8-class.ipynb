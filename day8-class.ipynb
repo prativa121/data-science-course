{
 "cells": [
  {
   "cell_type": "code",
   "execution_count": 1,
   "id": "d6dc57ed",
   "metadata": {},
   "outputs": [],
   "source": [
    "#class and object\n"
   ]
  },
  {
   "cell_type": "code",
   "execution_count": 2,
   "id": "16f19bc6",
   "metadata": {},
   "outputs": [],
   "source": [
    "class myclass:\n",
    "    x=5"
   ]
  },
  {
   "cell_type": "code",
   "execution_count": 4,
   "id": "0be810b0",
   "metadata": {},
   "outputs": [
    {
     "name": "stdout",
     "output_type": "stream",
     "text": [
      "5\n"
     ]
    }
   ],
   "source": [
    "o1=myclass()\n",
    "print(o1.x)"
   ]
  },
  {
   "cell_type": "code",
   "execution_count": 7,
   "id": "f5ef46a4",
   "metadata": {},
   "outputs": [],
   "source": [
    "class dog:\n",
    "    def __init__(self,name,age):\n",
    "        self.name=name\n",
    "        self.age=age\n",
    "        \n",
    "    def bark(self):\n",
    "        print(f\"{self.name} is barking\")"
   ]
  },
  {
   "cell_type": "code",
   "execution_count": 14,
   "id": "d7ac4371",
   "metadata": {},
   "outputs": [],
   "source": [
    "mydog=dog(\"jacki\",89)"
   ]
  },
  {
   "cell_type": "code",
   "execution_count": 15,
   "id": "8d75e8fc",
   "metadata": {},
   "outputs": [
    {
     "name": "stdout",
     "output_type": "stream",
     "text": [
      "jacki\n"
     ]
    }
   ],
   "source": [
    "print(mydog.name)"
   ]
  },
  {
   "cell_type": "code",
   "execution_count": 10,
   "id": "bdd2f979",
   "metadata": {},
   "outputs": [
    {
     "name": "stdout",
     "output_type": "stream",
     "text": [
      "89\n"
     ]
    }
   ],
   "source": [
    "print(mydog.age)"
   ]
  },
  {
   "cell_type": "code",
   "execution_count": 11,
   "id": "3d06e08c",
   "metadata": {},
   "outputs": [
    {
     "name": "stdout",
     "output_type": "stream",
     "text": [
      "<class '__main__.dog'>\n"
     ]
    }
   ],
   "source": [
    "print(type(mydog))"
   ]
  },
  {
   "cell_type": "code",
   "execution_count": 16,
   "id": "1b16ad16",
   "metadata": {},
   "outputs": [
    {
     "data": {
      "text/plain": [
       "['__class__',\n",
       " '__delattr__',\n",
       " '__dict__',\n",
       " '__dir__',\n",
       " '__doc__',\n",
       " '__eq__',\n",
       " '__format__',\n",
       " '__ge__',\n",
       " '__getattribute__',\n",
       " '__getstate__',\n",
       " '__gt__',\n",
       " '__hash__',\n",
       " '__init__',\n",
       " '__init_subclass__',\n",
       " '__le__',\n",
       " '__lt__',\n",
       " '__module__',\n",
       " '__ne__',\n",
       " '__new__',\n",
       " '__reduce__',\n",
       " '__reduce_ex__',\n",
       " '__repr__',\n",
       " '__setattr__',\n",
       " '__sizeof__',\n",
       " '__str__',\n",
       " '__subclasshook__',\n",
       " '__weakref__',\n",
       " 'age',\n",
       " 'bark',\n",
       " 'name']"
      ]
     },
     "execution_count": 16,
     "metadata": {},
     "output_type": "execute_result"
    }
   ],
   "source": [
    "dir(mydog)"
   ]
  },
  {
   "cell_type": "code",
   "execution_count": 17,
   "id": "5c472de3",
   "metadata": {},
   "outputs": [
    {
     "name": "stdout",
     "output_type": "stream",
     "text": [
      "jacki is barking\n"
     ]
    }
   ],
   "source": [
    "mydog.bark()\n"
   ]
  },
  {
   "cell_type": "code",
   "execution_count": 23,
   "id": "6bd6b323",
   "metadata": {},
   "outputs": [],
   "source": [
    "class dog:\n",
    "    def __init__(self,name,age):\n",
    "        self.name=name\n",
    "        self.age=age\n",
    "        \n",
    "    def bark(abc):\n",
    "        print(f\"{abc.name} is barking\")"
   ]
  },
  {
   "cell_type": "code",
   "execution_count": 24,
   "id": "64f5dc33",
   "metadata": {},
   "outputs": [],
   "source": [
    "dog1=dog('abcr',8)"
   ]
  },
  {
   "cell_type": "code",
   "execution_count": 25,
   "id": "89c3543d",
   "metadata": {},
   "outputs": [
    {
     "name": "stdout",
     "output_type": "stream",
     "text": [
      "abcr is barking\n"
     ]
    }
   ],
   "source": [
    "dog1.bark()"
   ]
  },
  {
   "cell_type": "code",
   "execution_count": 64,
   "id": "a85d1be7",
   "metadata": {},
   "outputs": [],
   "source": [
    "class student:\n",
    "    def __init__(self,name,rollno):\n",
    "        self.name=name\n",
    "        self.rollno=rollno\n",
    "        \n",
    "    def detail(a):\n",
    "        print(f\"{a.name} is good guy\")\n",
    "        print(f\"{a.rollno} roll number\")"
   ]
  },
  {
   "cell_type": "code",
   "execution_count": 65,
   "id": "51693720",
   "metadata": {},
   "outputs": [],
   "source": [
    "b=student(\"ram\",1)"
   ]
  },
  {
   "cell_type": "code",
   "execution_count": 66,
   "id": "c502be5e",
   "metadata": {},
   "outputs": [
    {
     "data": {
      "text/plain": [
       "<__main__.student at 0x22994927890>"
      ]
     },
     "execution_count": 66,
     "metadata": {},
     "output_type": "execute_result"
    }
   ],
   "source": [
    "b"
   ]
  },
  {
   "cell_type": "code",
   "execution_count": 67,
   "id": "27cc8009",
   "metadata": {},
   "outputs": [
    {
     "name": "stdout",
     "output_type": "stream",
     "text": [
      "ram\n"
     ]
    }
   ],
   "source": [
    "print(b.name)"
   ]
  },
  {
   "cell_type": "code",
   "execution_count": 68,
   "id": "1d5c99c6",
   "metadata": {},
   "outputs": [
    {
     "name": "stdout",
     "output_type": "stream",
     "text": [
      "ram is good guy\n",
      "1 roll number\n"
     ]
    }
   ],
   "source": [
    "b.detail()"
   ]
  },
  {
   "cell_type": "code",
   "execution_count": 69,
   "id": "85237dc4",
   "metadata": {},
   "outputs": [
    {
     "data": {
      "text/plain": [
       "'ram'"
      ]
     },
     "execution_count": 69,
     "metadata": {},
     "output_type": "execute_result"
    }
   ],
   "source": [
    "b.name"
   ]
  },
  {
   "cell_type": "code",
   "execution_count": 81,
   "id": "a014fa10",
   "metadata": {},
   "outputs": [],
   "source": [
    "class dog:\n",
    "    def __init__(self,name,age):\n",
    "        self.name=name\n",
    "        self.age=age\n",
    "        self .bark()\n",
    "    def method(self):\n",
    "        print(\"hi\")\n",
    "        pass\n",
    "        \n",
    "    def bark(self):\n",
    "        print(f\"{self.name} is barking\")\n",
    "        self.method() #used to call method function"
   ]
  },
  {
   "cell_type": "code",
   "execution_count": 82,
   "id": "116ebacd",
   "metadata": {},
   "outputs": [
    {
     "name": "stdout",
     "output_type": "stream",
     "text": [
      "rom is barking\n",
      "hi\n"
     ]
    }
   ],
   "source": [
    "p1=dog(\"rom\",5)"
   ]
  },
  {
   "cell_type": "code",
   "execution_count": 80,
   "id": "3f8fcb50",
   "metadata": {},
   "outputs": [
    {
     "data": {
      "text/plain": [
       "<__main__.dog at 0x2299492a890>"
      ]
     },
     "execution_count": 80,
     "metadata": {},
     "output_type": "execute_result"
    }
   ],
   "source": [
    "p1"
   ]
  },
  {
   "cell_type": "code",
   "execution_count": 76,
   "id": "cdc15774",
   "metadata": {},
   "outputs": [
    {
     "data": {
      "text/plain": [
       "'rom'"
      ]
     },
     "execution_count": 76,
     "metadata": {},
     "output_type": "execute_result"
    }
   ],
   "source": [
    "p1.name"
   ]
  },
  {
   "cell_type": "code",
   "execution_count": 77,
   "id": "5d69a425",
   "metadata": {},
   "outputs": [
    {
     "name": "stdout",
     "output_type": "stream",
     "text": [
      "rom is barking\n",
      "hi\n"
     ]
    }
   ],
   "source": [
    "p1.bark()"
   ]
  },
  {
   "cell_type": "code",
   "execution_count": 108,
   "id": "60b9bd31",
   "metadata": {},
   "outputs": [],
   "source": [
    "class Person:\n",
    "    count=0\n",
    "    def __init__(self,name):\n",
    "        self.name=name\n",
    "        Person.count+=1\n",
    "    @classmethod   \n",
    "    def get_count(cls):\n",
    "        \n",
    "        return cls.count\n",
    "    \n",
    "    @staticmethod  \n",
    "    def get_full_name(firstname,secondname):\n",
    "        return f'{firstname} {secondname}'"
   ]
  },
  {
   "cell_type": "code",
   "execution_count": 109,
   "id": "d943f3b5",
   "metadata": {},
   "outputs": [
    {
     "name": "stdout",
     "output_type": "stream",
     "text": [
      "<__main__.Person object at 0x00000229948D0A10>\n"
     ]
    }
   ],
   "source": [
    "print(p1)"
   ]
  },
  {
   "cell_type": "code",
   "execution_count": 110,
   "id": "f3bbc851",
   "metadata": {},
   "outputs": [
    {
     "name": "stdout",
     "output_type": "stream",
     "text": [
      "0\n"
     ]
    }
   ],
   "source": [
    "print(Person.get_count())"
   ]
  },
  {
   "cell_type": "code",
   "execution_count": 111,
   "id": "5007a71a",
   "metadata": {},
   "outputs": [],
   "source": [
    "b=Person(\"ram\")"
   ]
  },
  {
   "cell_type": "code",
   "execution_count": 112,
   "id": "56631a66",
   "metadata": {},
   "outputs": [
    {
     "name": "stdout",
     "output_type": "stream",
     "text": [
      "1\n"
     ]
    }
   ],
   "source": [
    "print(Person.get_count())"
   ]
  },
  {
   "cell_type": "code",
   "execution_count": 119,
   "id": "1ede851e",
   "metadata": {},
   "outputs": [
    {
     "data": {
      "text/plain": [
       "'1 2'"
      ]
     },
     "execution_count": 119,
     "metadata": {},
     "output_type": "execute_result"
    }
   ],
   "source": [
    "b.get_full_name(\"1\",\"2\")"
   ]
  },
  {
   "cell_type": "code",
   "execution_count": 113,
   "id": "a330fbc0",
   "metadata": {},
   "outputs": [],
   "source": [
    "b2=(Person(\"sita\"))"
   ]
  },
  {
   "cell_type": "code",
   "execution_count": 114,
   "id": "cf14a549",
   "metadata": {},
   "outputs": [
    {
     "name": "stdout",
     "output_type": "stream",
     "text": [
      "2\n"
     ]
    }
   ],
   "source": [
    "print(Person.get_count())"
   ]
  },
  {
   "cell_type": "code",
   "execution_count": 118,
   "id": "0453e0ee",
   "metadata": {},
   "outputs": [
    {
     "data": {
      "text/plain": [
       "'1 2'"
      ]
     },
     "execution_count": 118,
     "metadata": {},
     "output_type": "execute_result"
    }
   ],
   "source": [
    "b2.get_full_name(\"1\",\"2\")"
   ]
  },
  {
   "cell_type": "code",
   "execution_count": 120,
   "id": "c2a7ad41",
   "metadata": {},
   "outputs": [
    {
     "name": "stdout",
     "output_type": "stream",
     "text": [
      "2\n"
     ]
    }
   ],
   "source": [
    "print(Person.get_count())"
   ]
  },
  {
   "cell_type": "code",
   "execution_count": 116,
   "id": "81b81215",
   "metadata": {},
   "outputs": [
    {
     "data": {
      "text/plain": [
       "'ram kc'"
      ]
     },
     "execution_count": 116,
     "metadata": {},
     "output_type": "execute_result"
    }
   ],
   "source": [
    "Person.get_full_name(\"ram\",\"kc\")"
   ]
  },
  {
   "cell_type": "code",
   "execution_count": null,
   "id": "832d1f20",
   "metadata": {},
   "outputs": [],
   "source": []
  }
 ],
 "metadata": {
  "kernelspec": {
   "display_name": "Python 3 (ipykernel)",
   "language": "python",
   "name": "python3"
  },
  "language_info": {
   "codemirror_mode": {
    "name": "ipython",
    "version": 3
   },
   "file_extension": ".py",
   "mimetype": "text/x-python",
   "name": "python",
   "nbconvert_exporter": "python",
   "pygments_lexer": "ipython3",
   "version": "3.11.3"
  }
 },
 "nbformat": 4,
 "nbformat_minor": 5
}
